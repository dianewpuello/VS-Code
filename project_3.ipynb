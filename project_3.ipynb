{
 "cells": [
  {
   "cell_type": "code",
   "execution_count": 60,
   "metadata": {},
   "outputs": [],
   "source": [
    "# Project 3\n",
    "\n",
    "import plotly.io as pio\n",
    "\n",
    "pio.renderers.default = \"vscode+jupyterlab+notebook_connected\""
   ]
  },
  {
   "cell_type": "markdown",
   "metadata": {},
   "source": [
    "plotly.io allows to save a Plotly figure as an image or an HTML file. This will be important when I go to publish this work on this website. A plotly figure can be data visualization in the form of a chart or graph. "
   ]
  },
  {
   "cell_type": "code",
   "execution_count": 61,
   "metadata": {},
   "outputs": [],
   "source": [
    "import pandas as pd \n",
    "import plotly.express as px"
   ]
  },
  {
   "cell_type": "markdown",
   "metadata": {},
   "source": [
    "pandas and plotly.express are packages with native python functions. You can think of them like tool boxes full of useful tools needed to perform a variety for jobs.\n",
    "For example, later on in this webpage you will see that I calculated the mean of my data by writing \".mean()\" at the end of the line of code.\n",
    "\".mean()\" is a function that I did not have to create, but a function that already existed in the package called pandas. "
   ]
  },
  {
   "cell_type": "code",
   "execution_count": 62,
   "metadata": {},
   "outputs": [
    {
     "name": "stderr",
     "output_type": "stream",
     "text": [
      "C:\\Users\\Diane\\AppData\\Local\\Temp\\ipykernel_5380\\1006744794.py:1: DtypeWarning:\n",
      "\n",
      "Columns (5,6,8,9) have mixed types. Specify dtype option on import or set low_memory=False.\n",
      "\n"
     ]
    },
    {
     "data": {
      "text/html": [
       "<div>\n",
       "<style scoped>\n",
       "    .dataframe tbody tr th:only-of-type {\n",
       "        vertical-align: middle;\n",
       "    }\n",
       "\n",
       "    .dataframe tbody tr th {\n",
       "        vertical-align: top;\n",
       "    }\n",
       "\n",
       "    .dataframe thead th {\n",
       "        text-align: right;\n",
       "    }\n",
       "</style>\n",
       "<table border=\"1\" class=\"dataframe\">\n",
       "  <thead>\n",
       "    <tr style=\"text-align: right;\">\n",
       "      <th></th>\n",
       "      <th>Offense Type</th>\n",
       "      <th>Report Date</th>\n",
       "      <th>Incident Precinct Code</th>\n",
       "      <th>Borough Name</th>\n",
       "      <th>Intimate Relationship Flag</th>\n",
       "      <th>Victim Race</th>\n",
       "      <th>Victim Sex</th>\n",
       "      <th>Victim Reported Age</th>\n",
       "      <th>Suspect Race</th>\n",
       "      <th>Suspect Sex</th>\n",
       "      <th>Suspect Reported Age</th>\n",
       "      <th>COMMDIST</th>\n",
       "      <th>Poverty</th>\n",
       "      <th>Median Income</th>\n",
       "      <th>Unemployment</th>\n",
       "    </tr>\n",
       "  </thead>\n",
       "  <tbody>\n",
       "    <tr>\n",
       "      <th>0</th>\n",
       "      <td>FELONY ASSAULT</td>\n",
       "      <td>07/15/2020</td>\n",
       "      <td>52</td>\n",
       "      <td>BRONX</td>\n",
       "      <td>Yes</td>\n",
       "      <td>WHITE HISPANIC</td>\n",
       "      <td>MALE</td>\n",
       "      <td>NaN</td>\n",
       "      <td>NaN</td>\n",
       "      <td>FEMALE</td>\n",
       "      <td>NaN</td>\n",
       "      <td>207.0</td>\n",
       "      <td>1.0</td>\n",
       "      <td>1.0</td>\n",
       "      <td>1.0</td>\n",
       "    </tr>\n",
       "    <tr>\n",
       "      <th>1</th>\n",
       "      <td>FELONY ASSAULT</td>\n",
       "      <td>04/17/2020</td>\n",
       "      <td>113</td>\n",
       "      <td>QUEENS</td>\n",
       "      <td>Yes</td>\n",
       "      <td>WHITE HISPANIC</td>\n",
       "      <td>FEMALE</td>\n",
       "      <td>NaN</td>\n",
       "      <td>NaN</td>\n",
       "      <td>MALE</td>\n",
       "      <td>NaN</td>\n",
       "      <td>412.0</td>\n",
       "      <td>NaN</td>\n",
       "      <td>NaN</td>\n",
       "      <td>1.0</td>\n",
       "    </tr>\n",
       "    <tr>\n",
       "      <th>2</th>\n",
       "      <td>FELONY ASSAULT</td>\n",
       "      <td>03/19/2020</td>\n",
       "      <td>41</td>\n",
       "      <td>BRONX</td>\n",
       "      <td>No</td>\n",
       "      <td>WHITE HISPANIC</td>\n",
       "      <td>MALE</td>\n",
       "      <td>3.0</td>\n",
       "      <td>BLACK</td>\n",
       "      <td>MALE</td>\n",
       "      <td>NaN</td>\n",
       "      <td>202.0</td>\n",
       "      <td>1.0</td>\n",
       "      <td>1.0</td>\n",
       "      <td>1.0</td>\n",
       "    </tr>\n",
       "    <tr>\n",
       "      <th>3</th>\n",
       "      <td>FELONY ASSAULT</td>\n",
       "      <td>04/29/2020</td>\n",
       "      <td>45</td>\n",
       "      <td>BRONX</td>\n",
       "      <td>No</td>\n",
       "      <td>WHITE HISPANIC</td>\n",
       "      <td>MALE</td>\n",
       "      <td>5.0</td>\n",
       "      <td>WHITE</td>\n",
       "      <td>MALE</td>\n",
       "      <td>NaN</td>\n",
       "      <td>210.0</td>\n",
       "      <td>NaN</td>\n",
       "      <td>NaN</td>\n",
       "      <td>NaN</td>\n",
       "    </tr>\n",
       "    <tr>\n",
       "      <th>4</th>\n",
       "      <td>FELONY ASSAULT</td>\n",
       "      <td>10/18/2020</td>\n",
       "      <td>47</td>\n",
       "      <td>BRONX</td>\n",
       "      <td>Yes</td>\n",
       "      <td>WHITE HISPANIC</td>\n",
       "      <td>MALE</td>\n",
       "      <td>5.0</td>\n",
       "      <td>BLACK</td>\n",
       "      <td>MALE</td>\n",
       "      <td>NaN</td>\n",
       "      <td>212.0</td>\n",
       "      <td>NaN</td>\n",
       "      <td>NaN</td>\n",
       "      <td>1.0</td>\n",
       "    </tr>\n",
       "    <tr>\n",
       "      <th>...</th>\n",
       "      <td>...</td>\n",
       "      <td>...</td>\n",
       "      <td>...</td>\n",
       "      <td>...</td>\n",
       "      <td>...</td>\n",
       "      <td>...</td>\n",
       "      <td>...</td>\n",
       "      <td>...</td>\n",
       "      <td>...</td>\n",
       "      <td>...</td>\n",
       "      <td>...</td>\n",
       "      <td>...</td>\n",
       "      <td>...</td>\n",
       "      <td>...</td>\n",
       "      <td>...</td>\n",
       "    </tr>\n",
       "    <tr>\n",
       "      <th>483785</th>\n",
       "      <td>DIR</td>\n",
       "      <td>04/30/2021</td>\n",
       "      <td>109</td>\n",
       "      <td>QUEENS</td>\n",
       "      <td>MISSING</td>\n",
       "      <td>NaN</td>\n",
       "      <td>NaN</td>\n",
       "      <td>NaN</td>\n",
       "      <td>NaN</td>\n",
       "      <td>NaN</td>\n",
       "      <td>NaN</td>\n",
       "      <td>NaN</td>\n",
       "      <td>NaN</td>\n",
       "      <td>NaN</td>\n",
       "      <td>NaN</td>\n",
       "    </tr>\n",
       "    <tr>\n",
       "      <th>483786</th>\n",
       "      <td>DIR</td>\n",
       "      <td>10/30/2020</td>\n",
       "      <td>42</td>\n",
       "      <td>BRONX</td>\n",
       "      <td>MISSING</td>\n",
       "      <td>NaN</td>\n",
       "      <td>NaN</td>\n",
       "      <td>NaN</td>\n",
       "      <td>NaN</td>\n",
       "      <td>NaN</td>\n",
       "      <td>NaN</td>\n",
       "      <td>NaN</td>\n",
       "      <td>NaN</td>\n",
       "      <td>NaN</td>\n",
       "      <td>NaN</td>\n",
       "    </tr>\n",
       "    <tr>\n",
       "      <th>483787</th>\n",
       "      <td>DIR</td>\n",
       "      <td>11/07/2020</td>\n",
       "      <td>42</td>\n",
       "      <td>BRONX</td>\n",
       "      <td>MISSING</td>\n",
       "      <td>NaN</td>\n",
       "      <td>NaN</td>\n",
       "      <td>NaN</td>\n",
       "      <td>NaN</td>\n",
       "      <td>NaN</td>\n",
       "      <td>NaN</td>\n",
       "      <td>NaN</td>\n",
       "      <td>NaN</td>\n",
       "      <td>NaN</td>\n",
       "      <td>NaN</td>\n",
       "    </tr>\n",
       "    <tr>\n",
       "      <th>483788</th>\n",
       "      <td>DIR</td>\n",
       "      <td>12/04/2020</td>\n",
       "      <td>47</td>\n",
       "      <td>BRONX</td>\n",
       "      <td>MISSING</td>\n",
       "      <td>NaN</td>\n",
       "      <td>NaN</td>\n",
       "      <td>NaN</td>\n",
       "      <td>NaN</td>\n",
       "      <td>NaN</td>\n",
       "      <td>NaN</td>\n",
       "      <td>NaN</td>\n",
       "      <td>NaN</td>\n",
       "      <td>NaN</td>\n",
       "      <td>NaN</td>\n",
       "    </tr>\n",
       "    <tr>\n",
       "      <th>483789</th>\n",
       "      <td>DIR</td>\n",
       "      <td>06/15/2020</td>\n",
       "      <td>94</td>\n",
       "      <td>BROOKLYN</td>\n",
       "      <td>MISSING</td>\n",
       "      <td>NaN</td>\n",
       "      <td>NaN</td>\n",
       "      <td>NaN</td>\n",
       "      <td>NaN</td>\n",
       "      <td>NaN</td>\n",
       "      <td>NaN</td>\n",
       "      <td>NaN</td>\n",
       "      <td>NaN</td>\n",
       "      <td>NaN</td>\n",
       "      <td>NaN</td>\n",
       "    </tr>\n",
       "  </tbody>\n",
       "</table>\n",
       "<p>483790 rows × 15 columns</p>\n",
       "</div>"
      ],
      "text/plain": [
       "          Offense Type Report Date  Incident Precinct Code Borough Name  \\\n",
       "0       FELONY ASSAULT  07/15/2020                      52        BRONX   \n",
       "1       FELONY ASSAULT  04/17/2020                     113       QUEENS   \n",
       "2       FELONY ASSAULT  03/19/2020                      41        BRONX   \n",
       "3       FELONY ASSAULT  04/29/2020                      45        BRONX   \n",
       "4       FELONY ASSAULT  10/18/2020                      47        BRONX   \n",
       "...                ...         ...                     ...          ...   \n",
       "483785             DIR  04/30/2021                     109       QUEENS   \n",
       "483786             DIR  10/30/2020                      42        BRONX   \n",
       "483787             DIR  11/07/2020                      42        BRONX   \n",
       "483788             DIR  12/04/2020                      47        BRONX   \n",
       "483789             DIR  06/15/2020                      94     BROOKLYN   \n",
       "\n",
       "       Intimate Relationship Flag     Victim Race Victim Sex  \\\n",
       "0                             Yes  WHITE HISPANIC       MALE   \n",
       "1                             Yes  WHITE HISPANIC     FEMALE   \n",
       "2                              No  WHITE HISPANIC       MALE   \n",
       "3                              No  WHITE HISPANIC       MALE   \n",
       "4                             Yes  WHITE HISPANIC       MALE   \n",
       "...                           ...             ...        ...   \n",
       "483785                    MISSING             NaN        NaN   \n",
       "483786                    MISSING             NaN        NaN   \n",
       "483787                    MISSING             NaN        NaN   \n",
       "483788                    MISSING             NaN        NaN   \n",
       "483789                    MISSING             NaN        NaN   \n",
       "\n",
       "        Victim Reported Age Suspect Race Suspect Sex  Suspect Reported Age  \\\n",
       "0                       NaN          NaN      FEMALE                   NaN   \n",
       "1                       NaN          NaN        MALE                   NaN   \n",
       "2                       3.0        BLACK        MALE                   NaN   \n",
       "3                       5.0        WHITE        MALE                   NaN   \n",
       "4                       5.0        BLACK        MALE                   NaN   \n",
       "...                     ...          ...         ...                   ...   \n",
       "483785                  NaN          NaN         NaN                   NaN   \n",
       "483786                  NaN          NaN         NaN                   NaN   \n",
       "483787                  NaN          NaN         NaN                   NaN   \n",
       "483788                  NaN          NaN         NaN                   NaN   \n",
       "483789                  NaN          NaN         NaN                   NaN   \n",
       "\n",
       "        COMMDIST  Poverty  Median Income  Unemployment  \n",
       "0          207.0      1.0            1.0           1.0  \n",
       "1          412.0      NaN            NaN           1.0  \n",
       "2          202.0      1.0            1.0           1.0  \n",
       "3          210.0      NaN            NaN           NaN  \n",
       "4          212.0      NaN            NaN           1.0  \n",
       "...          ...      ...            ...           ...  \n",
       "483785       NaN      NaN            NaN           NaN  \n",
       "483786       NaN      NaN            NaN           NaN  \n",
       "483787       NaN      NaN            NaN           NaN  \n",
       "483788       NaN      NaN            NaN           NaN  \n",
       "483789       NaN      NaN            NaN           NaN  \n",
       "\n",
       "[483790 rows x 15 columns]"
      ]
     },
     "execution_count": 62,
     "metadata": {},
     "output_type": "execute_result"
    }
   ],
   "source": [
    "GBV = pd.read_csv(\"ENDGBV__The_Intersection_of_Domestic_Violence__Race_Ethnicity_and_Sex_20241207.csv\")\n",
    "GBV"
   ]
  },
  {
   "cell_type": "markdown",
   "metadata": {},
   "source": [
    "In the above, I loaded the data that I wanted to use into Jupyter Notebook. Jupyter Notebook is the platform I used to code this project. The code returns a \"preview\" of the data for me. There is a dtype warning indicating that there are different dtypes in this CSV. A dtype can be \"float\", \"integer\", or \"object\" to name a few. \"Float\" is a number with a decimal, \"integer\" is a whole number without a decimal, and \"object\" can be a string of letters or words. You will see some values called NaN which means \"not a number\". NaN is a placeholder for missing values or not applicable values as having zeroes in my data set can skew my data analysis. The dtype warning is nothing to be worried about just yet. In the next few lines of code, I will look through the values I want to analyze to see if I have to convert any values so that they are all the same dtypes before I start manipulating the data. Having different dtypes is not always a bad thing when it comes to data analysis, you have to use your better judgement in whether you need to convert or drop values. "
   ]
  },
  {
   "cell_type": "code",
   "execution_count": 63,
   "metadata": {},
   "outputs": [
    {
     "data": {
      "text/html": [
       "<div>\n",
       "<style scoped>\n",
       "    .dataframe tbody tr th:only-of-type {\n",
       "        vertical-align: middle;\n",
       "    }\n",
       "\n",
       "    .dataframe tbody tr th {\n",
       "        vertical-align: top;\n",
       "    }\n",
       "\n",
       "    .dataframe thead th {\n",
       "        text-align: right;\n",
       "    }\n",
       "</style>\n",
       "<table border=\"1\" class=\"dataframe\">\n",
       "  <thead>\n",
       "    <tr style=\"text-align: right;\">\n",
       "      <th></th>\n",
       "      <th>Offense Type</th>\n",
       "      <th>Report Date</th>\n",
       "      <th>Incident Precinct Code</th>\n",
       "      <th>Borough Name</th>\n",
       "      <th>Intimate Relationship Flag</th>\n",
       "      <th>Victim Race</th>\n",
       "      <th>Victim Sex</th>\n",
       "      <th>Victim Reported Age</th>\n",
       "      <th>Suspect Race</th>\n",
       "      <th>Suspect Sex</th>\n",
       "      <th>Suspect Reported Age</th>\n",
       "      <th>COMMDIST</th>\n",
       "      <th>Poverty</th>\n",
       "      <th>Median Income</th>\n",
       "      <th>Unemployment</th>\n",
       "    </tr>\n",
       "  </thead>\n",
       "  <tbody>\n",
       "    <tr>\n",
       "      <th>0</th>\n",
       "      <td>FELONY ASSAULT</td>\n",
       "      <td>07/15/2020</td>\n",
       "      <td>52</td>\n",
       "      <td>BRONX</td>\n",
       "      <td>Yes</td>\n",
       "      <td>WHITE HISPANIC</td>\n",
       "      <td>MALE</td>\n",
       "      <td>NaN</td>\n",
       "      <td>NaN</td>\n",
       "      <td>FEMALE</td>\n",
       "      <td>NaN</td>\n",
       "      <td>207.0</td>\n",
       "      <td>1.0</td>\n",
       "      <td>1.0</td>\n",
       "      <td>1.0</td>\n",
       "    </tr>\n",
       "    <tr>\n",
       "      <th>1</th>\n",
       "      <td>FELONY ASSAULT</td>\n",
       "      <td>04/17/2020</td>\n",
       "      <td>113</td>\n",
       "      <td>QUEENS</td>\n",
       "      <td>Yes</td>\n",
       "      <td>WHITE HISPANIC</td>\n",
       "      <td>FEMALE</td>\n",
       "      <td>NaN</td>\n",
       "      <td>NaN</td>\n",
       "      <td>MALE</td>\n",
       "      <td>NaN</td>\n",
       "      <td>412.0</td>\n",
       "      <td>NaN</td>\n",
       "      <td>NaN</td>\n",
       "      <td>1.0</td>\n",
       "    </tr>\n",
       "    <tr>\n",
       "      <th>2</th>\n",
       "      <td>FELONY ASSAULT</td>\n",
       "      <td>03/19/2020</td>\n",
       "      <td>41</td>\n",
       "      <td>BRONX</td>\n",
       "      <td>No</td>\n",
       "      <td>WHITE HISPANIC</td>\n",
       "      <td>MALE</td>\n",
       "      <td>3.0</td>\n",
       "      <td>BLACK</td>\n",
       "      <td>MALE</td>\n",
       "      <td>NaN</td>\n",
       "      <td>202.0</td>\n",
       "      <td>1.0</td>\n",
       "      <td>1.0</td>\n",
       "      <td>1.0</td>\n",
       "    </tr>\n",
       "    <tr>\n",
       "      <th>3</th>\n",
       "      <td>FELONY ASSAULT</td>\n",
       "      <td>04/29/2020</td>\n",
       "      <td>45</td>\n",
       "      <td>BRONX</td>\n",
       "      <td>No</td>\n",
       "      <td>WHITE HISPANIC</td>\n",
       "      <td>MALE</td>\n",
       "      <td>5.0</td>\n",
       "      <td>WHITE</td>\n",
       "      <td>MALE</td>\n",
       "      <td>NaN</td>\n",
       "      <td>210.0</td>\n",
       "      <td>NaN</td>\n",
       "      <td>NaN</td>\n",
       "      <td>NaN</td>\n",
       "    </tr>\n",
       "    <tr>\n",
       "      <th>4</th>\n",
       "      <td>FELONY ASSAULT</td>\n",
       "      <td>10/18/2020</td>\n",
       "      <td>47</td>\n",
       "      <td>BRONX</td>\n",
       "      <td>Yes</td>\n",
       "      <td>WHITE HISPANIC</td>\n",
       "      <td>MALE</td>\n",
       "      <td>5.0</td>\n",
       "      <td>BLACK</td>\n",
       "      <td>MALE</td>\n",
       "      <td>NaN</td>\n",
       "      <td>212.0</td>\n",
       "      <td>NaN</td>\n",
       "      <td>NaN</td>\n",
       "      <td>1.0</td>\n",
       "    </tr>\n",
       "    <tr>\n",
       "      <th>5</th>\n",
       "      <td>FELONY ASSAULT</td>\n",
       "      <td>10/18/2020</td>\n",
       "      <td>47</td>\n",
       "      <td>BRONX</td>\n",
       "      <td>Yes</td>\n",
       "      <td>WHITE HISPANIC</td>\n",
       "      <td>MALE</td>\n",
       "      <td>5.0</td>\n",
       "      <td>WHITE HISPANIC</td>\n",
       "      <td>MALE</td>\n",
       "      <td>NaN</td>\n",
       "      <td>212.0</td>\n",
       "      <td>NaN</td>\n",
       "      <td>NaN</td>\n",
       "      <td>1.0</td>\n",
       "    </tr>\n",
       "    <tr>\n",
       "      <th>6</th>\n",
       "      <td>FELONY ASSAULT</td>\n",
       "      <td>10/27/2021</td>\n",
       "      <td>75</td>\n",
       "      <td>BROOKLYN</td>\n",
       "      <td>No</td>\n",
       "      <td>WHITE HISPANIC</td>\n",
       "      <td>MALE</td>\n",
       "      <td>8.0</td>\n",
       "      <td>WHITE HISPANIC</td>\n",
       "      <td>MALE</td>\n",
       "      <td>NaN</td>\n",
       "      <td>305.0</td>\n",
       "      <td>1.0</td>\n",
       "      <td>1.0</td>\n",
       "      <td>NaN</td>\n",
       "    </tr>\n",
       "    <tr>\n",
       "      <th>7</th>\n",
       "      <td>FELONY ASSAULT</td>\n",
       "      <td>12/27/2021</td>\n",
       "      <td>107</td>\n",
       "      <td>QUEENS</td>\n",
       "      <td>No</td>\n",
       "      <td>WHITE HISPANIC</td>\n",
       "      <td>MALE</td>\n",
       "      <td>8.0</td>\n",
       "      <td>WHITE HISPANIC</td>\n",
       "      <td>NaN</td>\n",
       "      <td>NaN</td>\n",
       "      <td>408.0</td>\n",
       "      <td>NaN</td>\n",
       "      <td>NaN</td>\n",
       "      <td>NaN</td>\n",
       "    </tr>\n",
       "    <tr>\n",
       "      <th>8</th>\n",
       "      <td>FELONY ASSAULT</td>\n",
       "      <td>10/21/2021</td>\n",
       "      <td>120</td>\n",
       "      <td>STATEN ISLAND</td>\n",
       "      <td>No</td>\n",
       "      <td>WHITE HISPANIC</td>\n",
       "      <td>FEMALE</td>\n",
       "      <td>8.0</td>\n",
       "      <td>NaN</td>\n",
       "      <td>MALE</td>\n",
       "      <td>NaN</td>\n",
       "      <td>501.0</td>\n",
       "      <td>NaN</td>\n",
       "      <td>NaN</td>\n",
       "      <td>NaN</td>\n",
       "    </tr>\n",
       "    <tr>\n",
       "      <th>9</th>\n",
       "      <td>FELONY ASSAULT</td>\n",
       "      <td>11/24/2021</td>\n",
       "      <td>83</td>\n",
       "      <td>BROOKLYN</td>\n",
       "      <td>No</td>\n",
       "      <td>WHITE HISPANIC</td>\n",
       "      <td>FEMALE</td>\n",
       "      <td>9.0</td>\n",
       "      <td>WHITE HISPANIC</td>\n",
       "      <td>MALE</td>\n",
       "      <td>NaN</td>\n",
       "      <td>304.0</td>\n",
       "      <td>1.0</td>\n",
       "      <td>1.0</td>\n",
       "      <td>NaN</td>\n",
       "    </tr>\n",
       "  </tbody>\n",
       "</table>\n",
       "</div>"
      ],
      "text/plain": [
       "     Offense Type Report Date  Incident Precinct Code   Borough Name  \\\n",
       "0  FELONY ASSAULT  07/15/2020                      52          BRONX   \n",
       "1  FELONY ASSAULT  04/17/2020                     113         QUEENS   \n",
       "2  FELONY ASSAULT  03/19/2020                      41          BRONX   \n",
       "3  FELONY ASSAULT  04/29/2020                      45          BRONX   \n",
       "4  FELONY ASSAULT  10/18/2020                      47          BRONX   \n",
       "5  FELONY ASSAULT  10/18/2020                      47          BRONX   \n",
       "6  FELONY ASSAULT  10/27/2021                      75       BROOKLYN   \n",
       "7  FELONY ASSAULT  12/27/2021                     107         QUEENS   \n",
       "8  FELONY ASSAULT  10/21/2021                     120  STATEN ISLAND   \n",
       "9  FELONY ASSAULT  11/24/2021                      83       BROOKLYN   \n",
       "\n",
       "  Intimate Relationship Flag     Victim Race Victim Sex  Victim Reported Age  \\\n",
       "0                        Yes  WHITE HISPANIC       MALE                  NaN   \n",
       "1                        Yes  WHITE HISPANIC     FEMALE                  NaN   \n",
       "2                         No  WHITE HISPANIC       MALE                  3.0   \n",
       "3                         No  WHITE HISPANIC       MALE                  5.0   \n",
       "4                        Yes  WHITE HISPANIC       MALE                  5.0   \n",
       "5                        Yes  WHITE HISPANIC       MALE                  5.0   \n",
       "6                         No  WHITE HISPANIC       MALE                  8.0   \n",
       "7                         No  WHITE HISPANIC       MALE                  8.0   \n",
       "8                         No  WHITE HISPANIC     FEMALE                  8.0   \n",
       "9                         No  WHITE HISPANIC     FEMALE                  9.0   \n",
       "\n",
       "     Suspect Race Suspect Sex  Suspect Reported Age  COMMDIST  Poverty  \\\n",
       "0             NaN      FEMALE                   NaN     207.0      1.0   \n",
       "1             NaN        MALE                   NaN     412.0      NaN   \n",
       "2           BLACK        MALE                   NaN     202.0      1.0   \n",
       "3           WHITE        MALE                   NaN     210.0      NaN   \n",
       "4           BLACK        MALE                   NaN     212.0      NaN   \n",
       "5  WHITE HISPANIC        MALE                   NaN     212.0      NaN   \n",
       "6  WHITE HISPANIC        MALE                   NaN     305.0      1.0   \n",
       "7  WHITE HISPANIC         NaN                   NaN     408.0      NaN   \n",
       "8             NaN        MALE                   NaN     501.0      NaN   \n",
       "9  WHITE HISPANIC        MALE                   NaN     304.0      1.0   \n",
       "\n",
       "   Median Income  Unemployment  \n",
       "0            1.0           1.0  \n",
       "1            NaN           1.0  \n",
       "2            1.0           1.0  \n",
       "3            NaN           NaN  \n",
       "4            NaN           1.0  \n",
       "5            NaN           1.0  \n",
       "6            1.0           NaN  \n",
       "7            NaN           NaN  \n",
       "8            NaN           NaN  \n",
       "9            1.0           NaN  "
      ]
     },
     "execution_count": 63,
     "metadata": {},
     "output_type": "execute_result"
    }
   ],
   "source": [
    "GBV.head(10)"
   ]
  },
  {
   "cell_type": "markdown",
   "metadata": {},
   "source": [
    ".head() returns the first five rows of a data set. I wrote in 10 to see the first 10 rows."
   ]
  },
  {
   "cell_type": "code",
   "execution_count": 64,
   "metadata": {},
   "outputs": [
    {
     "data": {
      "text/html": [
       "<div>\n",
       "<style scoped>\n",
       "    .dataframe tbody tr th:only-of-type {\n",
       "        vertical-align: middle;\n",
       "    }\n",
       "\n",
       "    .dataframe tbody tr th {\n",
       "        vertical-align: top;\n",
       "    }\n",
       "\n",
       "    .dataframe thead th {\n",
       "        text-align: right;\n",
       "    }\n",
       "</style>\n",
       "<table border=\"1\" class=\"dataframe\">\n",
       "  <thead>\n",
       "    <tr style=\"text-align: right;\">\n",
       "      <th></th>\n",
       "      <th>Offense Type</th>\n",
       "      <th>Report Date</th>\n",
       "      <th>Incident Precinct Code</th>\n",
       "      <th>Borough Name</th>\n",
       "      <th>Intimate Relationship Flag</th>\n",
       "      <th>Victim Race</th>\n",
       "      <th>Victim Sex</th>\n",
       "      <th>Victim Reported Age</th>\n",
       "      <th>Suspect Race</th>\n",
       "      <th>Suspect Sex</th>\n",
       "      <th>Suspect Reported Age</th>\n",
       "      <th>COMMDIST</th>\n",
       "      <th>Poverty</th>\n",
       "      <th>Median Income</th>\n",
       "      <th>Unemployment</th>\n",
       "    </tr>\n",
       "  </thead>\n",
       "  <tbody>\n",
       "    <tr>\n",
       "      <th>483780</th>\n",
       "      <td>DIR</td>\n",
       "      <td>07/05/2021</td>\n",
       "      <td>50</td>\n",
       "      <td>BRONX</td>\n",
       "      <td>MISSING</td>\n",
       "      <td>NaN</td>\n",
       "      <td>NaN</td>\n",
       "      <td>NaN</td>\n",
       "      <td>NaN</td>\n",
       "      <td>NaN</td>\n",
       "      <td>NaN</td>\n",
       "      <td>NaN</td>\n",
       "      <td>NaN</td>\n",
       "      <td>NaN</td>\n",
       "      <td>NaN</td>\n",
       "    </tr>\n",
       "    <tr>\n",
       "      <th>483781</th>\n",
       "      <td>DIR</td>\n",
       "      <td>07/05/2021</td>\n",
       "      <td>50</td>\n",
       "      <td>BRONX</td>\n",
       "      <td>MISSING</td>\n",
       "      <td>NaN</td>\n",
       "      <td>NaN</td>\n",
       "      <td>NaN</td>\n",
       "      <td>NaN</td>\n",
       "      <td>NaN</td>\n",
       "      <td>NaN</td>\n",
       "      <td>NaN</td>\n",
       "      <td>NaN</td>\n",
       "      <td>NaN</td>\n",
       "      <td>NaN</td>\n",
       "    </tr>\n",
       "    <tr>\n",
       "      <th>483782</th>\n",
       "      <td>DIR</td>\n",
       "      <td>09/10/2021</td>\n",
       "      <td>61</td>\n",
       "      <td>BROOKLYN</td>\n",
       "      <td>MISSING</td>\n",
       "      <td>NaN</td>\n",
       "      <td>NaN</td>\n",
       "      <td>NaN</td>\n",
       "      <td>NaN</td>\n",
       "      <td>NaN</td>\n",
       "      <td>NaN</td>\n",
       "      <td>NaN</td>\n",
       "      <td>NaN</td>\n",
       "      <td>NaN</td>\n",
       "      <td>NaN</td>\n",
       "    </tr>\n",
       "    <tr>\n",
       "      <th>483783</th>\n",
       "      <td>DIR</td>\n",
       "      <td>09/22/2021</td>\n",
       "      <td>63</td>\n",
       "      <td>BROOKLYN</td>\n",
       "      <td>MISSING</td>\n",
       "      <td>NaN</td>\n",
       "      <td>NaN</td>\n",
       "      <td>NaN</td>\n",
       "      <td>NaN</td>\n",
       "      <td>NaN</td>\n",
       "      <td>NaN</td>\n",
       "      <td>NaN</td>\n",
       "      <td>NaN</td>\n",
       "      <td>NaN</td>\n",
       "      <td>NaN</td>\n",
       "    </tr>\n",
       "    <tr>\n",
       "      <th>483784</th>\n",
       "      <td>DIR</td>\n",
       "      <td>06/17/2021</td>\n",
       "      <td>94</td>\n",
       "      <td>BROOKLYN</td>\n",
       "      <td>MISSING</td>\n",
       "      <td>NaN</td>\n",
       "      <td>NaN</td>\n",
       "      <td>NaN</td>\n",
       "      <td>NaN</td>\n",
       "      <td>NaN</td>\n",
       "      <td>NaN</td>\n",
       "      <td>NaN</td>\n",
       "      <td>NaN</td>\n",
       "      <td>NaN</td>\n",
       "      <td>NaN</td>\n",
       "    </tr>\n",
       "    <tr>\n",
       "      <th>483785</th>\n",
       "      <td>DIR</td>\n",
       "      <td>04/30/2021</td>\n",
       "      <td>109</td>\n",
       "      <td>QUEENS</td>\n",
       "      <td>MISSING</td>\n",
       "      <td>NaN</td>\n",
       "      <td>NaN</td>\n",
       "      <td>NaN</td>\n",
       "      <td>NaN</td>\n",
       "      <td>NaN</td>\n",
       "      <td>NaN</td>\n",
       "      <td>NaN</td>\n",
       "      <td>NaN</td>\n",
       "      <td>NaN</td>\n",
       "      <td>NaN</td>\n",
       "    </tr>\n",
       "    <tr>\n",
       "      <th>483786</th>\n",
       "      <td>DIR</td>\n",
       "      <td>10/30/2020</td>\n",
       "      <td>42</td>\n",
       "      <td>BRONX</td>\n",
       "      <td>MISSING</td>\n",
       "      <td>NaN</td>\n",
       "      <td>NaN</td>\n",
       "      <td>NaN</td>\n",
       "      <td>NaN</td>\n",
       "      <td>NaN</td>\n",
       "      <td>NaN</td>\n",
       "      <td>NaN</td>\n",
       "      <td>NaN</td>\n",
       "      <td>NaN</td>\n",
       "      <td>NaN</td>\n",
       "    </tr>\n",
       "    <tr>\n",
       "      <th>483787</th>\n",
       "      <td>DIR</td>\n",
       "      <td>11/07/2020</td>\n",
       "      <td>42</td>\n",
       "      <td>BRONX</td>\n",
       "      <td>MISSING</td>\n",
       "      <td>NaN</td>\n",
       "      <td>NaN</td>\n",
       "      <td>NaN</td>\n",
       "      <td>NaN</td>\n",
       "      <td>NaN</td>\n",
       "      <td>NaN</td>\n",
       "      <td>NaN</td>\n",
       "      <td>NaN</td>\n",
       "      <td>NaN</td>\n",
       "      <td>NaN</td>\n",
       "    </tr>\n",
       "    <tr>\n",
       "      <th>483788</th>\n",
       "      <td>DIR</td>\n",
       "      <td>12/04/2020</td>\n",
       "      <td>47</td>\n",
       "      <td>BRONX</td>\n",
       "      <td>MISSING</td>\n",
       "      <td>NaN</td>\n",
       "      <td>NaN</td>\n",
       "      <td>NaN</td>\n",
       "      <td>NaN</td>\n",
       "      <td>NaN</td>\n",
       "      <td>NaN</td>\n",
       "      <td>NaN</td>\n",
       "      <td>NaN</td>\n",
       "      <td>NaN</td>\n",
       "      <td>NaN</td>\n",
       "    </tr>\n",
       "    <tr>\n",
       "      <th>483789</th>\n",
       "      <td>DIR</td>\n",
       "      <td>06/15/2020</td>\n",
       "      <td>94</td>\n",
       "      <td>BROOKLYN</td>\n",
       "      <td>MISSING</td>\n",
       "      <td>NaN</td>\n",
       "      <td>NaN</td>\n",
       "      <td>NaN</td>\n",
       "      <td>NaN</td>\n",
       "      <td>NaN</td>\n",
       "      <td>NaN</td>\n",
       "      <td>NaN</td>\n",
       "      <td>NaN</td>\n",
       "      <td>NaN</td>\n",
       "      <td>NaN</td>\n",
       "    </tr>\n",
       "  </tbody>\n",
       "</table>\n",
       "</div>"
      ],
      "text/plain": [
       "       Offense Type Report Date  Incident Precinct Code Borough Name  \\\n",
       "483780          DIR  07/05/2021                      50        BRONX   \n",
       "483781          DIR  07/05/2021                      50        BRONX   \n",
       "483782          DIR  09/10/2021                      61     BROOKLYN   \n",
       "483783          DIR  09/22/2021                      63     BROOKLYN   \n",
       "483784          DIR  06/17/2021                      94     BROOKLYN   \n",
       "483785          DIR  04/30/2021                     109       QUEENS   \n",
       "483786          DIR  10/30/2020                      42        BRONX   \n",
       "483787          DIR  11/07/2020                      42        BRONX   \n",
       "483788          DIR  12/04/2020                      47        BRONX   \n",
       "483789          DIR  06/15/2020                      94     BROOKLYN   \n",
       "\n",
       "       Intimate Relationship Flag Victim Race Victim Sex  Victim Reported Age  \\\n",
       "483780                    MISSING         NaN        NaN                  NaN   \n",
       "483781                    MISSING         NaN        NaN                  NaN   \n",
       "483782                    MISSING         NaN        NaN                  NaN   \n",
       "483783                    MISSING         NaN        NaN                  NaN   \n",
       "483784                    MISSING         NaN        NaN                  NaN   \n",
       "483785                    MISSING         NaN        NaN                  NaN   \n",
       "483786                    MISSING         NaN        NaN                  NaN   \n",
       "483787                    MISSING         NaN        NaN                  NaN   \n",
       "483788                    MISSING         NaN        NaN                  NaN   \n",
       "483789                    MISSING         NaN        NaN                  NaN   \n",
       "\n",
       "       Suspect Race Suspect Sex  Suspect Reported Age  COMMDIST  Poverty  \\\n",
       "483780          NaN         NaN                   NaN       NaN      NaN   \n",
       "483781          NaN         NaN                   NaN       NaN      NaN   \n",
       "483782          NaN         NaN                   NaN       NaN      NaN   \n",
       "483783          NaN         NaN                   NaN       NaN      NaN   \n",
       "483784          NaN         NaN                   NaN       NaN      NaN   \n",
       "483785          NaN         NaN                   NaN       NaN      NaN   \n",
       "483786          NaN         NaN                   NaN       NaN      NaN   \n",
       "483787          NaN         NaN                   NaN       NaN      NaN   \n",
       "483788          NaN         NaN                   NaN       NaN      NaN   \n",
       "483789          NaN         NaN                   NaN       NaN      NaN   \n",
       "\n",
       "        Median Income  Unemployment  \n",
       "483780            NaN           NaN  \n",
       "483781            NaN           NaN  \n",
       "483782            NaN           NaN  \n",
       "483783            NaN           NaN  \n",
       "483784            NaN           NaN  \n",
       "483785            NaN           NaN  \n",
       "483786            NaN           NaN  \n",
       "483787            NaN           NaN  \n",
       "483788            NaN           NaN  \n",
       "483789            NaN           NaN  "
      ]
     },
     "execution_count": 64,
     "metadata": {},
     "output_type": "execute_result"
    }
   ],
   "source": [
    "GBV.tail(10)"
   ]
  },
  {
   "cell_type": "markdown",
   "metadata": {},
   "source": [
    ".tail() returns the last five rows of a data set. I wrote in 10 to see the last 10 rows. "
   ]
  },
  {
   "cell_type": "code",
   "execution_count": 65,
   "metadata": {},
   "outputs": [
    {
     "data": {
      "text/html": [
       "<div>\n",
       "<style scoped>\n",
       "    .dataframe tbody tr th:only-of-type {\n",
       "        vertical-align: middle;\n",
       "    }\n",
       "\n",
       "    .dataframe tbody tr th {\n",
       "        vertical-align: top;\n",
       "    }\n",
       "\n",
       "    .dataframe thead th {\n",
       "        text-align: right;\n",
       "    }\n",
       "</style>\n",
       "<table border=\"1\" class=\"dataframe\">\n",
       "  <thead>\n",
       "    <tr style=\"text-align: right;\">\n",
       "      <th></th>\n",
       "      <th>Offense Type</th>\n",
       "      <th>Report Date</th>\n",
       "      <th>Incident Precinct Code</th>\n",
       "      <th>Borough Name</th>\n",
       "      <th>Intimate Relationship Flag</th>\n",
       "      <th>Victim Race</th>\n",
       "      <th>Victim Sex</th>\n",
       "      <th>Victim Reported Age</th>\n",
       "      <th>Suspect Race</th>\n",
       "      <th>Suspect Sex</th>\n",
       "      <th>Suspect Reported Age</th>\n",
       "      <th>COMMDIST</th>\n",
       "      <th>Poverty</th>\n",
       "      <th>Median Income</th>\n",
       "      <th>Unemployment</th>\n",
       "    </tr>\n",
       "  </thead>\n",
       "  <tbody>\n",
       "    <tr>\n",
       "      <th>171952</th>\n",
       "      <td>DIR</td>\n",
       "      <td>05/29/2020</td>\n",
       "      <td>32</td>\n",
       "      <td>MANHATTAN</td>\n",
       "      <td>NO</td>\n",
       "      <td>BLACK</td>\n",
       "      <td>FEMALE</td>\n",
       "      <td>NaN</td>\n",
       "      <td>BLACK</td>\n",
       "      <td>MALE</td>\n",
       "      <td>NaN</td>\n",
       "      <td>110.0</td>\n",
       "      <td>1.0</td>\n",
       "      <td>1.0</td>\n",
       "      <td>1.0</td>\n",
       "    </tr>\n",
       "    <tr>\n",
       "      <th>480485</th>\n",
       "      <td>DIR</td>\n",
       "      <td>01/01/2020</td>\n",
       "      <td>106</td>\n",
       "      <td>QUEENS</td>\n",
       "      <td>MISSING</td>\n",
       "      <td>NaN</td>\n",
       "      <td>NaN</td>\n",
       "      <td>NaN</td>\n",
       "      <td>NaN</td>\n",
       "      <td>NaN</td>\n",
       "      <td>NaN</td>\n",
       "      <td>410.0</td>\n",
       "      <td>NaN</td>\n",
       "      <td>NaN</td>\n",
       "      <td>NaN</td>\n",
       "    </tr>\n",
       "    <tr>\n",
       "      <th>274515</th>\n",
       "      <td>DIR</td>\n",
       "      <td>08/16/2020</td>\n",
       "      <td>101</td>\n",
       "      <td>QUEENS</td>\n",
       "      <td>NO</td>\n",
       "      <td>BLACK</td>\n",
       "      <td>FEMALE</td>\n",
       "      <td>76.0</td>\n",
       "      <td>BLACK</td>\n",
       "      <td>MALE</td>\n",
       "      <td>29.0</td>\n",
       "      <td>414.0</td>\n",
       "      <td>NaN</td>\n",
       "      <td>NaN</td>\n",
       "      <td>NaN</td>\n",
       "    </tr>\n",
       "    <tr>\n",
       "      <th>441904</th>\n",
       "      <td>DIR</td>\n",
       "      <td>04/18/2021</td>\n",
       "      <td>68</td>\n",
       "      <td>BROOKLYN</td>\n",
       "      <td>MISSING</td>\n",
       "      <td>NaN</td>\n",
       "      <td>NaN</td>\n",
       "      <td>NaN</td>\n",
       "      <td>NaN</td>\n",
       "      <td>NaN</td>\n",
       "      <td>NaN</td>\n",
       "      <td>310.0</td>\n",
       "      <td>NaN</td>\n",
       "      <td>NaN</td>\n",
       "      <td>NaN</td>\n",
       "    </tr>\n",
       "    <tr>\n",
       "      <th>119757</th>\n",
       "      <td>DIR</td>\n",
       "      <td>05/25/2021</td>\n",
       "      <td>47</td>\n",
       "      <td>BRONX</td>\n",
       "      <td>YES</td>\n",
       "      <td>WHITE</td>\n",
       "      <td>FEMALE</td>\n",
       "      <td>51.0</td>\n",
       "      <td>WHITE</td>\n",
       "      <td>MALE</td>\n",
       "      <td>61.0</td>\n",
       "      <td>212.0</td>\n",
       "      <td>NaN</td>\n",
       "      <td>NaN</td>\n",
       "      <td>1.0</td>\n",
       "    </tr>\n",
       "    <tr>\n",
       "      <th>83836</th>\n",
       "      <td>DIR</td>\n",
       "      <td>04/27/2020</td>\n",
       "      <td>19</td>\n",
       "      <td>MANHATTAN</td>\n",
       "      <td>YES</td>\n",
       "      <td>WHITE</td>\n",
       "      <td>FEMALE</td>\n",
       "      <td>34.0</td>\n",
       "      <td>OTHER</td>\n",
       "      <td>MALE</td>\n",
       "      <td>37.0</td>\n",
       "      <td>108.0</td>\n",
       "      <td>NaN</td>\n",
       "      <td>NaN</td>\n",
       "      <td>NaN</td>\n",
       "    </tr>\n",
       "    <tr>\n",
       "      <th>134503</th>\n",
       "      <td>DIR</td>\n",
       "      <td>09/17/2020</td>\n",
       "      <td>112</td>\n",
       "      <td>QUEENS</td>\n",
       "      <td>MISSING</td>\n",
       "      <td>OTHER</td>\n",
       "      <td>FEMALE</td>\n",
       "      <td>NaN</td>\n",
       "      <td>NaN</td>\n",
       "      <td>NaN</td>\n",
       "      <td>NaN</td>\n",
       "      <td>406.0</td>\n",
       "      <td>NaN</td>\n",
       "      <td>NaN</td>\n",
       "      <td>NaN</td>\n",
       "    </tr>\n",
       "    <tr>\n",
       "      <th>327092</th>\n",
       "      <td>DIR</td>\n",
       "      <td>12/07/2021</td>\n",
       "      <td>120</td>\n",
       "      <td>STATEN ISLAND</td>\n",
       "      <td>NO</td>\n",
       "      <td>BLACK</td>\n",
       "      <td>FEMALE</td>\n",
       "      <td>71.0</td>\n",
       "      <td>BLACK</td>\n",
       "      <td>MALE</td>\n",
       "      <td>42.0</td>\n",
       "      <td>501.0</td>\n",
       "      <td>NaN</td>\n",
       "      <td>NaN</td>\n",
       "      <td>NaN</td>\n",
       "    </tr>\n",
       "    <tr>\n",
       "      <th>231192</th>\n",
       "      <td>DIR</td>\n",
       "      <td>07/19/2021</td>\n",
       "      <td>46</td>\n",
       "      <td>BRONX</td>\n",
       "      <td>YES</td>\n",
       "      <td>BLACK</td>\n",
       "      <td>FEMALE</td>\n",
       "      <td>20.0</td>\n",
       "      <td>WHITE</td>\n",
       "      <td>MALE</td>\n",
       "      <td>20.0</td>\n",
       "      <td>205.0</td>\n",
       "      <td>1.0</td>\n",
       "      <td>1.0</td>\n",
       "      <td>1.0</td>\n",
       "    </tr>\n",
       "    <tr>\n",
       "      <th>336938</th>\n",
       "      <td>DIR</td>\n",
       "      <td>01/22/2021</td>\n",
       "      <td>52</td>\n",
       "      <td>BRONX</td>\n",
       "      <td>NO</td>\n",
       "      <td>BLACK</td>\n",
       "      <td>MALE</td>\n",
       "      <td>46.0</td>\n",
       "      <td>BLACK</td>\n",
       "      <td>MALE</td>\n",
       "      <td>47.0</td>\n",
       "      <td>207.0</td>\n",
       "      <td>1.0</td>\n",
       "      <td>1.0</td>\n",
       "      <td>1.0</td>\n",
       "    </tr>\n",
       "  </tbody>\n",
       "</table>\n",
       "</div>"
      ],
      "text/plain": [
       "       Offense Type Report Date  Incident Precinct Code   Borough Name  \\\n",
       "171952          DIR  05/29/2020                      32      MANHATTAN   \n",
       "480485          DIR  01/01/2020                     106         QUEENS   \n",
       "274515          DIR  08/16/2020                     101         QUEENS   \n",
       "441904          DIR  04/18/2021                      68       BROOKLYN   \n",
       "119757          DIR  05/25/2021                      47          BRONX   \n",
       "83836           DIR  04/27/2020                      19      MANHATTAN   \n",
       "134503          DIR  09/17/2020                     112         QUEENS   \n",
       "327092          DIR  12/07/2021                     120  STATEN ISLAND   \n",
       "231192          DIR  07/19/2021                      46          BRONX   \n",
       "336938          DIR  01/22/2021                      52          BRONX   \n",
       "\n",
       "       Intimate Relationship Flag Victim Race Victim Sex  Victim Reported Age  \\\n",
       "171952                         NO       BLACK     FEMALE                  NaN   \n",
       "480485                    MISSING         NaN        NaN                  NaN   \n",
       "274515                         NO       BLACK     FEMALE                 76.0   \n",
       "441904                    MISSING         NaN        NaN                  NaN   \n",
       "119757                        YES       WHITE     FEMALE                 51.0   \n",
       "83836                         YES       WHITE     FEMALE                 34.0   \n",
       "134503                    MISSING       OTHER     FEMALE                  NaN   \n",
       "327092                         NO       BLACK     FEMALE                 71.0   \n",
       "231192                        YES       BLACK     FEMALE                 20.0   \n",
       "336938                         NO       BLACK       MALE                 46.0   \n",
       "\n",
       "       Suspect Race Suspect Sex  Suspect Reported Age  COMMDIST  Poverty  \\\n",
       "171952        BLACK        MALE                   NaN     110.0      1.0   \n",
       "480485          NaN         NaN                   NaN     410.0      NaN   \n",
       "274515        BLACK        MALE                  29.0     414.0      NaN   \n",
       "441904          NaN         NaN                   NaN     310.0      NaN   \n",
       "119757        WHITE        MALE                  61.0     212.0      NaN   \n",
       "83836         OTHER        MALE                  37.0     108.0      NaN   \n",
       "134503          NaN         NaN                   NaN     406.0      NaN   \n",
       "327092        BLACK        MALE                  42.0     501.0      NaN   \n",
       "231192        WHITE        MALE                  20.0     205.0      1.0   \n",
       "336938        BLACK        MALE                  47.0     207.0      1.0   \n",
       "\n",
       "        Median Income  Unemployment  \n",
       "171952            1.0           1.0  \n",
       "480485            NaN           NaN  \n",
       "274515            NaN           NaN  \n",
       "441904            NaN           NaN  \n",
       "119757            NaN           1.0  \n",
       "83836             NaN           NaN  \n",
       "134503            NaN           NaN  \n",
       "327092            NaN           NaN  \n",
       "231192            1.0           1.0  \n",
       "336938            1.0           1.0  "
      ]
     },
     "execution_count": 65,
     "metadata": {},
     "output_type": "execute_result"
    }
   ],
   "source": [
    "GBV.sample(10)"
   ]
  },
  {
   "cell_type": "markdown",
   "metadata": {},
   "source": [
    ".sample() shows you a random assortment of rows from your data set. I also wrote in 10 here so that it would generate 10 random rows from my data set. "
   ]
  },
  {
   "cell_type": "markdown",
   "metadata": {},
   "source": [
    "Dataset to be used: https://data.cityofnewyork.us/Public-Safety/ENDGBV-The-Intersection-of-Domestic-Violence-Race-/2rb7-7eqa/about_data\n",
    "\n",
    "Analysis question: Do incidents of gender-based violence (GBV) increase as the age of the victim decreases? I am asking if there is an inverse relationship between incidents of violence and victims' ages.\n",
    "\n",
    "Columns that will (likely) be used:\n",
    "\n",
    "\"Victim Reported Age\"\n",
    "\n",
    "\"Number of Incidents\" I will make a column in a new data frame called Number of Incidents for each age\n",
    "\n",
    "Hypothesis: I hypothesize that age and frequency of domestic violence are not correlated. The data will not show a relationship between age and GBV incidents. I expect to see points that are scattered randomly with no apparent trend. \n",
    "\n",
    "Site URL: [the *.readthedocs.io URL of your live site, from the Publish section]"
   ]
  },
  {
   "cell_type": "code",
   "execution_count": 66,
   "metadata": {},
   "outputs": [
    {
     "name": "stdout",
     "output_type": "stream",
     "text": [
      "<class 'pandas.core.frame.DataFrame'>\n",
      "RangeIndex: 483790 entries, 0 to 483789\n",
      "Data columns (total 15 columns):\n",
      " #   Column                      Non-Null Count   Dtype  \n",
      "---  ------                      --------------   -----  \n",
      " 0   Offense Type                483790 non-null  object \n",
      " 1   Report Date                 483790 non-null  object \n",
      " 2   Incident Precinct Code      483790 non-null  int64  \n",
      " 3   Borough Name                483790 non-null  object \n",
      " 4   Intimate Relationship Flag  483790 non-null  object \n",
      " 5   Victim Race                 387733 non-null  object \n",
      " 6   Victim Sex                  394987 non-null  object \n",
      " 7   Victim Reported Age         344524 non-null  float64\n",
      " 8   Suspect Race                367160 non-null  object \n",
      " 9   Suspect Sex                 374345 non-null  object \n",
      " 10  Suspect Reported Age        300802 non-null  float64\n",
      " 11  COMMDIST                    483686 non-null  float64\n",
      " 12  Poverty                     202325 non-null  float64\n",
      " 13  Median Income               209141 non-null  float64\n",
      " 14  Unemployment                201911 non-null  float64\n",
      "dtypes: float64(6), int64(1), object(8)\n",
      "memory usage: 55.4+ MB\n"
     ]
    }
   ],
   "source": [
    "GBV.info()"
   ]
  },
  {
   "cell_type": "markdown",
   "metadata": {},
   "source": [
    ".info() returns all the columns, tells you the dtypes, as well as how many rows have values in the data set "
   ]
  },
  {
   "cell_type": "code",
   "execution_count": 67,
   "metadata": {},
   "outputs": [
    {
     "data": {
      "text/plain": [
       "array([ nan,   3.,   5.,   8.,   9.,  10.,  11.,  12.,  13.,  14.,  15.,\n",
       "        16.,  17.,  18.,  19.,  20.,  21.,  22.,  23.,  24.,  25.,  26.,\n",
       "        27.,  28.,  29.,  30.,  31.,  32.,  33.,  34.,  35.,  36.,  37.,\n",
       "        38.,  39.,  40.,  41.,  42.,  43.,  44.,  45.,  46.,  47.,  48.,\n",
       "        49.,  50.,  51.,  52.,  53.,  54.,  55.,  56.,  58.,  59.,  60.,\n",
       "        62.,  67.,  71.,  73.,  82.,  65.,   4.,   6.,   7.,  76.,  63.,\n",
       "        68.,  74.,  57.,  70.,  75.,  83.,   1.,   2.,  64.,  69.,  78.,\n",
       "        66.,  77.,  72.,  61.,  79.,  84.,  85.,  86.,  81.,  91.,  80.,\n",
       "        88.,  89.,  87.,  90.,  92.,  93.,  94.,  95.,  96.,  97., 114.,\n",
       "        99.,  98., 100., 101., 110., 105., 104., 120.])"
      ]
     },
     "execution_count": 67,
     "metadata": {},
     "output_type": "execute_result"
    }
   ],
   "source": [
    "GBV[\"Victim Reported Age\"].unique()"
   ]
  },
  {
   "cell_type": "markdown",
   "metadata": {},
   "source": [
    ".unique() in the way that I used it here shows how many unique values are in the column entitled \"Victim Reported Age\" in the data set. This is how you can find weird values that may not match with what you want to see from the specific column.  "
   ]
  },
  {
   "cell_type": "code",
   "execution_count": 68,
   "metadata": {},
   "outputs": [
    {
     "data": {
      "text/plain": [
       "[1.0,\n",
       " 2.0,\n",
       " 3.0,\n",
       " 4.0,\n",
       " 5.0,\n",
       " 6.0,\n",
       " 7.0,\n",
       " 8.0,\n",
       " 9.0,\n",
       " 10.0,\n",
       " 11.0,\n",
       " 12.0,\n",
       " 13.0,\n",
       " 14.0,\n",
       " 15.0,\n",
       " 16.0,\n",
       " 17.0,\n",
       " 18.0,\n",
       " 19.0,\n",
       " 20.0,\n",
       " 21.0,\n",
       " 22.0,\n",
       " 23.0,\n",
       " 24.0,\n",
       " 25.0,\n",
       " 26.0,\n",
       " 27.0,\n",
       " 28.0,\n",
       " 29.0,\n",
       " 30.0,\n",
       " 31.0,\n",
       " 32.0,\n",
       " 33.0,\n",
       " 34.0,\n",
       " 35.0,\n",
       " 36.0,\n",
       " 37.0,\n",
       " 38.0,\n",
       " 39.0,\n",
       " 40.0,\n",
       " 41.0,\n",
       " 42.0,\n",
       " 43.0,\n",
       " 44.0,\n",
       " 45.0,\n",
       " 46.0,\n",
       " 47.0,\n",
       " 48.0,\n",
       " 49.0,\n",
       " 50.0,\n",
       " 51.0,\n",
       " 52.0,\n",
       " 53.0,\n",
       " 54.0,\n",
       " 55.0,\n",
       " 56.0,\n",
       " 57.0,\n",
       " 58.0,\n",
       " 59.0,\n",
       " 60.0,\n",
       " 61.0,\n",
       " 62.0,\n",
       " 63.0,\n",
       " 64.0,\n",
       " 65.0,\n",
       " 66.0,\n",
       " 67.0,\n",
       " 68.0,\n",
       " 69.0,\n",
       " 70.0,\n",
       " 71.0,\n",
       " 72.0,\n",
       " 73.0,\n",
       " 74.0,\n",
       " 75.0,\n",
       " 76.0,\n",
       " 77.0,\n",
       " 78.0,\n",
       " 79.0,\n",
       " 80.0,\n",
       " 81.0,\n",
       " 82.0,\n",
       " 83.0,\n",
       " 84.0,\n",
       " 85.0,\n",
       " 86.0,\n",
       " 87.0,\n",
       " 88.0,\n",
       " 89.0,\n",
       " 90.0,\n",
       " 91.0,\n",
       " 92.0,\n",
       " 93.0,\n",
       " 94.0,\n",
       " 95.0,\n",
       " 96.0,\n",
       " 97.0,\n",
       " 98.0,\n",
       " 99.0,\n",
       " 100.0,\n",
       " 101.0,\n",
       " 104.0,\n",
       " 105.0,\n",
       " 110.0,\n",
       " 114.0,\n",
       " 120.0,\n",
       " nan]"
      ]
     },
     "execution_count": 68,
     "metadata": {},
     "output_type": "execute_result"
    }
   ],
   "source": [
    "GBV_list = GBV[\"Victim Reported Age\"].unique()\n",
    "GBV_list.sort()\n",
    "list(GBV_list)"
   ]
  },
  {
   "cell_type": "markdown",
   "metadata": {},
   "source": [
    "I converted the array into a list because sometimes that makes the data easier to read. "
   ]
  },
  {
   "cell_type": "code",
   "execution_count": 69,
   "metadata": {},
   "outputs": [
    {
     "data": {
      "text/plain": [
       "Victim Reported Age\n",
       "1.0        648\n",
       "2.0        682\n",
       "3.0        829\n",
       "4.0       1033\n",
       "5.0       1139\n",
       "6.0       1140\n",
       "7.0       1125\n",
       "8.0       1037\n",
       "9.0       1114\n",
       "10.0      1157\n",
       "11.0      1016\n",
       "12.0      1267\n",
       "13.0      1311\n",
       "14.0      1565\n",
       "15.0      1881\n",
       "16.0      2302\n",
       "17.0      2813\n",
       "18.0      3792\n",
       "19.0      4741\n",
       "20.0      5785\n",
       "21.0      6632\n",
       "22.0      7662\n",
       "23.0      8205\n",
       "24.0      8545\n",
       "25.0      9211\n",
       "26.0      9717\n",
       "27.0      9919\n",
       "28.0     10599\n",
       "29.0     10443\n",
       "30.0     10818\n",
       "31.0     10758\n",
       "32.0     10256\n",
       "33.0      9993\n",
       "34.0      9806\n",
       "35.0      9533\n",
       "36.0      8897\n",
       "37.0      8314\n",
       "38.0      8478\n",
       "39.0      8334\n",
       "40.0      7912\n",
       "41.0      7161\n",
       "42.0      6935\n",
       "43.0      6475\n",
       "44.0      6044\n",
       "45.0      5620\n",
       "46.0      5109\n",
       "47.0      4823\n",
       "48.0      4803\n",
       "49.0      4705\n",
       "50.0      4770\n",
       "51.0      4658\n",
       "52.0      4230\n",
       "53.0      4306\n",
       "54.0      4230\n",
       "55.0      4129\n",
       "56.0      3860\n",
       "57.0      3820\n",
       "58.0      3552\n",
       "59.0      3269\n",
       "60.0      3100\n",
       "61.0      2778\n",
       "62.0      2458\n",
       "63.0      2354\n",
       "64.0      2095\n",
       "65.0      1900\n",
       "66.0      1731\n",
       "67.0      1427\n",
       "68.0      1345\n",
       "69.0      1264\n",
       "70.0      1099\n",
       "71.0      1039\n",
       "72.0       999\n",
       "73.0       939\n",
       "74.0       818\n",
       "75.0       815\n",
       "76.0       775\n",
       "77.0       649\n",
       "78.0       592\n",
       "79.0       472\n",
       "80.0       442\n",
       "81.0       341\n",
       "82.0       360\n",
       "83.0       293\n",
       "84.0       296\n",
       "85.0       224\n",
       "86.0       190\n",
       "87.0       164\n",
       "88.0       151\n",
       "89.0        95\n",
       "90.0        89\n",
       "91.0        79\n",
       "92.0        67\n",
       "93.0        42\n",
       "94.0        34\n",
       "95.0        25\n",
       "96.0        15\n",
       "97.0        25\n",
       "98.0        12\n",
       "99.0         5\n",
       "100.0        5\n",
       "101.0        8\n",
       "104.0        1\n",
       "105.0        1\n",
       "110.0        1\n",
       "114.0        1\n",
       "120.0        1\n",
       "dtype: int64"
      ]
     },
     "metadata": {},
     "output_type": "display_data"
    }
   ],
   "source": [
    "with pd.option_context(\"display.max_rows\", 1000):\n",
    "    display(GBV.groupby(\"Victim Reported Age\").size())"
   ]
  },
  {
   "cell_type": "markdown",
   "metadata": {},
   "source": [
    ".groupby() pulls certain that you want to see or work with from the data set. I want to work with age so I grouped the column \"Victim Reported Age\" and used .size() to give me the amount of times that age occurs in the data set. It is important to fully investigate your data so that you can determine how you want to clean your data before you go any further. From the above data investigation, I found that I did not need to convert dtypes. "
   ]
  },
  {
   "cell_type": "code",
   "execution_count": 70,
   "metadata": {},
   "outputs": [
    {
     "data": {
      "text/html": [
       "<div>\n",
       "<style scoped>\n",
       "    .dataframe tbody tr th:only-of-type {\n",
       "        vertical-align: middle;\n",
       "    }\n",
       "\n",
       "    .dataframe tbody tr th {\n",
       "        vertical-align: top;\n",
       "    }\n",
       "\n",
       "    .dataframe thead th {\n",
       "        text-align: right;\n",
       "    }\n",
       "</style>\n",
       "<table border=\"1\" class=\"dataframe\">\n",
       "  <thead>\n",
       "    <tr style=\"text-align: right;\">\n",
       "      <th></th>\n",
       "      <th>Victim Reported Age</th>\n",
       "      <th>Number of Incidents</th>\n",
       "    </tr>\n",
       "  </thead>\n",
       "  <tbody>\n",
       "    <tr>\n",
       "      <th>0</th>\n",
       "      <td>1.0</td>\n",
       "      <td>648</td>\n",
       "    </tr>\n",
       "    <tr>\n",
       "      <th>1</th>\n",
       "      <td>2.0</td>\n",
       "      <td>682</td>\n",
       "    </tr>\n",
       "    <tr>\n",
       "      <th>2</th>\n",
       "      <td>3.0</td>\n",
       "      <td>829</td>\n",
       "    </tr>\n",
       "    <tr>\n",
       "      <th>3</th>\n",
       "      <td>4.0</td>\n",
       "      <td>1033</td>\n",
       "    </tr>\n",
       "    <tr>\n",
       "      <th>4</th>\n",
       "      <td>5.0</td>\n",
       "      <td>1139</td>\n",
       "    </tr>\n",
       "    <tr>\n",
       "      <th>...</th>\n",
       "      <td>...</td>\n",
       "      <td>...</td>\n",
       "    </tr>\n",
       "    <tr>\n",
       "      <th>101</th>\n",
       "      <td>104.0</td>\n",
       "      <td>1</td>\n",
       "    </tr>\n",
       "    <tr>\n",
       "      <th>102</th>\n",
       "      <td>105.0</td>\n",
       "      <td>1</td>\n",
       "    </tr>\n",
       "    <tr>\n",
       "      <th>103</th>\n",
       "      <td>110.0</td>\n",
       "      <td>1</td>\n",
       "    </tr>\n",
       "    <tr>\n",
       "      <th>104</th>\n",
       "      <td>114.0</td>\n",
       "      <td>1</td>\n",
       "    </tr>\n",
       "    <tr>\n",
       "      <th>105</th>\n",
       "      <td>120.0</td>\n",
       "      <td>1</td>\n",
       "    </tr>\n",
       "  </tbody>\n",
       "</table>\n",
       "<p>106 rows × 2 columns</p>\n",
       "</div>"
      ],
      "text/plain": [
       "     Victim Reported Age  Number of Incidents\n",
       "0                    1.0                  648\n",
       "1                    2.0                  682\n",
       "2                    3.0                  829\n",
       "3                    4.0                 1033\n",
       "4                    5.0                 1139\n",
       "..                   ...                  ...\n",
       "101                104.0                    1\n",
       "102                105.0                    1\n",
       "103                110.0                    1\n",
       "104                114.0                    1\n",
       "105                120.0                    1\n",
       "\n",
       "[106 rows x 2 columns]"
      ]
     },
     "execution_count": 70,
     "metadata": {},
     "output_type": "execute_result"
    }
   ],
   "source": [
    "counts = GBV.groupby(\"Victim Reported Age\").size().reset_index(name=\"Number of Incidents\")\n",
    "counts"
   ]
  },
  {
   "cell_type": "markdown",
   "metadata": {},
   "source": [
    "Same code as before but here I converted it into a dataframe. Pandas will add a index column on the very left that numbers the rows in the frame. I renamed the column that shows how many times an age occurs \"Number of Incidents\". "
   ]
  },
  {
   "cell_type": "code",
   "execution_count": 71,
   "metadata": {},
   "outputs": [
    {
     "data": {
      "text/html": [
       "        <script type=\"text/javascript\">\n",
       "        window.PlotlyConfig = {MathJaxConfig: 'local'};\n",
       "        if (window.MathJax && window.MathJax.Hub && window.MathJax.Hub.Config) {window.MathJax.Hub.Config({SVG: {font: \"STIX-Web\"}});}\n",
       "        if (typeof require !== 'undefined') {\n",
       "        require.undef(\"plotly\");\n",
       "        requirejs.config({\n",
       "            paths: {\n",
       "                'plotly': ['https://cdn.plot.ly/plotly-2.32.0.min']\n",
       "            }\n",
       "        });\n",
       "        require(['plotly'], function(Plotly) {\n",
       "            window._Plotly = Plotly;\n",
       "        });\n",
       "        }\n",
       "        </script>\n",
       "        "
      ]
     },
     "metadata": {},
     "output_type": "display_data"
    },
    {
     "data": {
      "application/vnd.plotly.v1+json": {
       "config": {
        "plotlyServerURL": "https://plot.ly"
       },
       "data": [
        {
         "hovertemplate": "Victim Age=%{x}<br>Number of Incidents=%{y}<extra></extra>",
         "legendgroup": "",
         "marker": {
          "color": "#636efa",
          "symbol": "circle"
         },
         "mode": "markers",
         "name": "",
         "orientation": "v",
         "showlegend": false,
         "type": "scatter",
         "x": [
          1,
          2,
          3,
          4,
          5,
          6,
          7,
          8,
          9,
          10,
          11,
          12,
          13,
          14,
          15,
          16,
          17,
          18,
          19,
          20,
          21,
          22,
          23,
          24,
          25,
          26,
          27,
          28,
          29,
          30,
          31,
          32,
          33,
          34,
          35,
          36,
          37,
          38,
          39,
          40,
          41,
          42,
          43,
          44,
          45,
          46,
          47,
          48,
          49,
          50,
          51,
          52,
          53,
          54,
          55,
          56,
          57,
          58,
          59,
          60,
          61,
          62,
          63,
          64,
          65,
          66,
          67,
          68,
          69,
          70,
          71,
          72,
          73,
          74,
          75,
          76,
          77,
          78,
          79,
          80,
          81,
          82,
          83,
          84,
          85,
          86,
          87,
          88,
          89,
          90,
          91,
          92,
          93,
          94,
          95,
          96,
          97,
          98,
          99,
          100,
          101,
          104,
          105,
          110,
          114,
          120
         ],
         "xaxis": "x",
         "y": [
          648,
          682,
          829,
          1033,
          1139,
          1140,
          1125,
          1037,
          1114,
          1157,
          1016,
          1267,
          1311,
          1565,
          1881,
          2302,
          2813,
          3792,
          4741,
          5785,
          6632,
          7662,
          8205,
          8545,
          9211,
          9717,
          9919,
          10599,
          10443,
          10818,
          10758,
          10256,
          9993,
          9806,
          9533,
          8897,
          8314,
          8478,
          8334,
          7912,
          7161,
          6935,
          6475,
          6044,
          5620,
          5109,
          4823,
          4803,
          4705,
          4770,
          4658,
          4230,
          4306,
          4230,
          4129,
          3860,
          3820,
          3552,
          3269,
          3100,
          2778,
          2458,
          2354,
          2095,
          1900,
          1731,
          1427,
          1345,
          1264,
          1099,
          1039,
          999,
          939,
          818,
          815,
          775,
          649,
          592,
          472,
          442,
          341,
          360,
          293,
          296,
          224,
          190,
          164,
          151,
          95,
          89,
          79,
          67,
          42,
          34,
          25,
          15,
          25,
          12,
          5,
          5,
          8,
          1,
          1,
          1,
          1,
          1
         ],
         "yaxis": "y"
        }
       ],
       "layout": {
        "legend": {
         "tracegroupgap": 0
        },
        "template": {
         "data": {
          "bar": [
           {
            "error_x": {
             "color": "#2a3f5f"
            },
            "error_y": {
             "color": "#2a3f5f"
            },
            "marker": {
             "line": {
              "color": "#E5ECF6",
              "width": 0.5
             },
             "pattern": {
              "fillmode": "overlay",
              "size": 10,
              "solidity": 0.2
             }
            },
            "type": "bar"
           }
          ],
          "barpolar": [
           {
            "marker": {
             "line": {
              "color": "#E5ECF6",
              "width": 0.5
             },
             "pattern": {
              "fillmode": "overlay",
              "size": 10,
              "solidity": 0.2
             }
            },
            "type": "barpolar"
           }
          ],
          "carpet": [
           {
            "aaxis": {
             "endlinecolor": "#2a3f5f",
             "gridcolor": "white",
             "linecolor": "white",
             "minorgridcolor": "white",
             "startlinecolor": "#2a3f5f"
            },
            "baxis": {
             "endlinecolor": "#2a3f5f",
             "gridcolor": "white",
             "linecolor": "white",
             "minorgridcolor": "white",
             "startlinecolor": "#2a3f5f"
            },
            "type": "carpet"
           }
          ],
          "choropleth": [
           {
            "colorbar": {
             "outlinewidth": 0,
             "ticks": ""
            },
            "type": "choropleth"
           }
          ],
          "contour": [
           {
            "colorbar": {
             "outlinewidth": 0,
             "ticks": ""
            },
            "colorscale": [
             [
              0,
              "#0d0887"
             ],
             [
              0.1111111111111111,
              "#46039f"
             ],
             [
              0.2222222222222222,
              "#7201a8"
             ],
             [
              0.3333333333333333,
              "#9c179e"
             ],
             [
              0.4444444444444444,
              "#bd3786"
             ],
             [
              0.5555555555555556,
              "#d8576b"
             ],
             [
              0.6666666666666666,
              "#ed7953"
             ],
             [
              0.7777777777777778,
              "#fb9f3a"
             ],
             [
              0.8888888888888888,
              "#fdca26"
             ],
             [
              1,
              "#f0f921"
             ]
            ],
            "type": "contour"
           }
          ],
          "contourcarpet": [
           {
            "colorbar": {
             "outlinewidth": 0,
             "ticks": ""
            },
            "type": "contourcarpet"
           }
          ],
          "heatmap": [
           {
            "colorbar": {
             "outlinewidth": 0,
             "ticks": ""
            },
            "colorscale": [
             [
              0,
              "#0d0887"
             ],
             [
              0.1111111111111111,
              "#46039f"
             ],
             [
              0.2222222222222222,
              "#7201a8"
             ],
             [
              0.3333333333333333,
              "#9c179e"
             ],
             [
              0.4444444444444444,
              "#bd3786"
             ],
             [
              0.5555555555555556,
              "#d8576b"
             ],
             [
              0.6666666666666666,
              "#ed7953"
             ],
             [
              0.7777777777777778,
              "#fb9f3a"
             ],
             [
              0.8888888888888888,
              "#fdca26"
             ],
             [
              1,
              "#f0f921"
             ]
            ],
            "type": "heatmap"
           }
          ],
          "heatmapgl": [
           {
            "colorbar": {
             "outlinewidth": 0,
             "ticks": ""
            },
            "colorscale": [
             [
              0,
              "#0d0887"
             ],
             [
              0.1111111111111111,
              "#46039f"
             ],
             [
              0.2222222222222222,
              "#7201a8"
             ],
             [
              0.3333333333333333,
              "#9c179e"
             ],
             [
              0.4444444444444444,
              "#bd3786"
             ],
             [
              0.5555555555555556,
              "#d8576b"
             ],
             [
              0.6666666666666666,
              "#ed7953"
             ],
             [
              0.7777777777777778,
              "#fb9f3a"
             ],
             [
              0.8888888888888888,
              "#fdca26"
             ],
             [
              1,
              "#f0f921"
             ]
            ],
            "type": "heatmapgl"
           }
          ],
          "histogram": [
           {
            "marker": {
             "pattern": {
              "fillmode": "overlay",
              "size": 10,
              "solidity": 0.2
             }
            },
            "type": "histogram"
           }
          ],
          "histogram2d": [
           {
            "colorbar": {
             "outlinewidth": 0,
             "ticks": ""
            },
            "colorscale": [
             [
              0,
              "#0d0887"
             ],
             [
              0.1111111111111111,
              "#46039f"
             ],
             [
              0.2222222222222222,
              "#7201a8"
             ],
             [
              0.3333333333333333,
              "#9c179e"
             ],
             [
              0.4444444444444444,
              "#bd3786"
             ],
             [
              0.5555555555555556,
              "#d8576b"
             ],
             [
              0.6666666666666666,
              "#ed7953"
             ],
             [
              0.7777777777777778,
              "#fb9f3a"
             ],
             [
              0.8888888888888888,
              "#fdca26"
             ],
             [
              1,
              "#f0f921"
             ]
            ],
            "type": "histogram2d"
           }
          ],
          "histogram2dcontour": [
           {
            "colorbar": {
             "outlinewidth": 0,
             "ticks": ""
            },
            "colorscale": [
             [
              0,
              "#0d0887"
             ],
             [
              0.1111111111111111,
              "#46039f"
             ],
             [
              0.2222222222222222,
              "#7201a8"
             ],
             [
              0.3333333333333333,
              "#9c179e"
             ],
             [
              0.4444444444444444,
              "#bd3786"
             ],
             [
              0.5555555555555556,
              "#d8576b"
             ],
             [
              0.6666666666666666,
              "#ed7953"
             ],
             [
              0.7777777777777778,
              "#fb9f3a"
             ],
             [
              0.8888888888888888,
              "#fdca26"
             ],
             [
              1,
              "#f0f921"
             ]
            ],
            "type": "histogram2dcontour"
           }
          ],
          "mesh3d": [
           {
            "colorbar": {
             "outlinewidth": 0,
             "ticks": ""
            },
            "type": "mesh3d"
           }
          ],
          "parcoords": [
           {
            "line": {
             "colorbar": {
              "outlinewidth": 0,
              "ticks": ""
             }
            },
            "type": "parcoords"
           }
          ],
          "pie": [
           {
            "automargin": true,
            "type": "pie"
           }
          ],
          "scatter": [
           {
            "fillpattern": {
             "fillmode": "overlay",
             "size": 10,
             "solidity": 0.2
            },
            "type": "scatter"
           }
          ],
          "scatter3d": [
           {
            "line": {
             "colorbar": {
              "outlinewidth": 0,
              "ticks": ""
             }
            },
            "marker": {
             "colorbar": {
              "outlinewidth": 0,
              "ticks": ""
             }
            },
            "type": "scatter3d"
           }
          ],
          "scattercarpet": [
           {
            "marker": {
             "colorbar": {
              "outlinewidth": 0,
              "ticks": ""
             }
            },
            "type": "scattercarpet"
           }
          ],
          "scattergeo": [
           {
            "marker": {
             "colorbar": {
              "outlinewidth": 0,
              "ticks": ""
             }
            },
            "type": "scattergeo"
           }
          ],
          "scattergl": [
           {
            "marker": {
             "colorbar": {
              "outlinewidth": 0,
              "ticks": ""
             }
            },
            "type": "scattergl"
           }
          ],
          "scattermapbox": [
           {
            "marker": {
             "colorbar": {
              "outlinewidth": 0,
              "ticks": ""
             }
            },
            "type": "scattermapbox"
           }
          ],
          "scatterpolar": [
           {
            "marker": {
             "colorbar": {
              "outlinewidth": 0,
              "ticks": ""
             }
            },
            "type": "scatterpolar"
           }
          ],
          "scatterpolargl": [
           {
            "marker": {
             "colorbar": {
              "outlinewidth": 0,
              "ticks": ""
             }
            },
            "type": "scatterpolargl"
           }
          ],
          "scatterternary": [
           {
            "marker": {
             "colorbar": {
              "outlinewidth": 0,
              "ticks": ""
             }
            },
            "type": "scatterternary"
           }
          ],
          "surface": [
           {
            "colorbar": {
             "outlinewidth": 0,
             "ticks": ""
            },
            "colorscale": [
             [
              0,
              "#0d0887"
             ],
             [
              0.1111111111111111,
              "#46039f"
             ],
             [
              0.2222222222222222,
              "#7201a8"
             ],
             [
              0.3333333333333333,
              "#9c179e"
             ],
             [
              0.4444444444444444,
              "#bd3786"
             ],
             [
              0.5555555555555556,
              "#d8576b"
             ],
             [
              0.6666666666666666,
              "#ed7953"
             ],
             [
              0.7777777777777778,
              "#fb9f3a"
             ],
             [
              0.8888888888888888,
              "#fdca26"
             ],
             [
              1,
              "#f0f921"
             ]
            ],
            "type": "surface"
           }
          ],
          "table": [
           {
            "cells": {
             "fill": {
              "color": "#EBF0F8"
             },
             "line": {
              "color": "white"
             }
            },
            "header": {
             "fill": {
              "color": "#C8D4E3"
             },
             "line": {
              "color": "white"
             }
            },
            "type": "table"
           }
          ]
         },
         "layout": {
          "annotationdefaults": {
           "arrowcolor": "#2a3f5f",
           "arrowhead": 0,
           "arrowwidth": 1
          },
          "autotypenumbers": "strict",
          "coloraxis": {
           "colorbar": {
            "outlinewidth": 0,
            "ticks": ""
           }
          },
          "colorscale": {
           "diverging": [
            [
             0,
             "#8e0152"
            ],
            [
             0.1,
             "#c51b7d"
            ],
            [
             0.2,
             "#de77ae"
            ],
            [
             0.3,
             "#f1b6da"
            ],
            [
             0.4,
             "#fde0ef"
            ],
            [
             0.5,
             "#f7f7f7"
            ],
            [
             0.6,
             "#e6f5d0"
            ],
            [
             0.7,
             "#b8e186"
            ],
            [
             0.8,
             "#7fbc41"
            ],
            [
             0.9,
             "#4d9221"
            ],
            [
             1,
             "#276419"
            ]
           ],
           "sequential": [
            [
             0,
             "#0d0887"
            ],
            [
             0.1111111111111111,
             "#46039f"
            ],
            [
             0.2222222222222222,
             "#7201a8"
            ],
            [
             0.3333333333333333,
             "#9c179e"
            ],
            [
             0.4444444444444444,
             "#bd3786"
            ],
            [
             0.5555555555555556,
             "#d8576b"
            ],
            [
             0.6666666666666666,
             "#ed7953"
            ],
            [
             0.7777777777777778,
             "#fb9f3a"
            ],
            [
             0.8888888888888888,
             "#fdca26"
            ],
            [
             1,
             "#f0f921"
            ]
           ],
           "sequentialminus": [
            [
             0,
             "#0d0887"
            ],
            [
             0.1111111111111111,
             "#46039f"
            ],
            [
             0.2222222222222222,
             "#7201a8"
            ],
            [
             0.3333333333333333,
             "#9c179e"
            ],
            [
             0.4444444444444444,
             "#bd3786"
            ],
            [
             0.5555555555555556,
             "#d8576b"
            ],
            [
             0.6666666666666666,
             "#ed7953"
            ],
            [
             0.7777777777777778,
             "#fb9f3a"
            ],
            [
             0.8888888888888888,
             "#fdca26"
            ],
            [
             1,
             "#f0f921"
            ]
           ]
          },
          "colorway": [
           "#636efa",
           "#EF553B",
           "#00cc96",
           "#ab63fa",
           "#FFA15A",
           "#19d3f3",
           "#FF6692",
           "#B6E880",
           "#FF97FF",
           "#FECB52"
          ],
          "font": {
           "color": "#2a3f5f"
          },
          "geo": {
           "bgcolor": "white",
           "lakecolor": "white",
           "landcolor": "#E5ECF6",
           "showlakes": true,
           "showland": true,
           "subunitcolor": "white"
          },
          "hoverlabel": {
           "align": "left"
          },
          "hovermode": "closest",
          "mapbox": {
           "style": "light"
          },
          "paper_bgcolor": "white",
          "plot_bgcolor": "#E5ECF6",
          "polar": {
           "angularaxis": {
            "gridcolor": "white",
            "linecolor": "white",
            "ticks": ""
           },
           "bgcolor": "#E5ECF6",
           "radialaxis": {
            "gridcolor": "white",
            "linecolor": "white",
            "ticks": ""
           }
          },
          "scene": {
           "xaxis": {
            "backgroundcolor": "#E5ECF6",
            "gridcolor": "white",
            "gridwidth": 2,
            "linecolor": "white",
            "showbackground": true,
            "ticks": "",
            "zerolinecolor": "white"
           },
           "yaxis": {
            "backgroundcolor": "#E5ECF6",
            "gridcolor": "white",
            "gridwidth": 2,
            "linecolor": "white",
            "showbackground": true,
            "ticks": "",
            "zerolinecolor": "white"
           },
           "zaxis": {
            "backgroundcolor": "#E5ECF6",
            "gridcolor": "white",
            "gridwidth": 2,
            "linecolor": "white",
            "showbackground": true,
            "ticks": "",
            "zerolinecolor": "white"
           }
          },
          "shapedefaults": {
           "line": {
            "color": "#2a3f5f"
           }
          },
          "ternary": {
           "aaxis": {
            "gridcolor": "white",
            "linecolor": "white",
            "ticks": ""
           },
           "baxis": {
            "gridcolor": "white",
            "linecolor": "white",
            "ticks": ""
           },
           "bgcolor": "#E5ECF6",
           "caxis": {
            "gridcolor": "white",
            "linecolor": "white",
            "ticks": ""
           }
          },
          "title": {
           "x": 0.05
          },
          "xaxis": {
           "automargin": true,
           "gridcolor": "white",
           "linecolor": "white",
           "ticks": "",
           "title": {
            "standoff": 15
           },
           "zerolinecolor": "white",
           "zerolinewidth": 2
          },
          "yaxis": {
           "automargin": true,
           "gridcolor": "white",
           "linecolor": "white",
           "ticks": "",
           "title": {
            "standoff": 15
           },
           "zerolinecolor": "white",
           "zerolinewidth": 2
          }
         }
        },
        "title": {
         "text": "Scatter Plot of Victim Age vs. Number of Incidents 2020-2021"
        },
        "xaxis": {
         "anchor": "y",
         "domain": [
          0,
          1
         ],
         "title": {
          "text": "Victim Age"
         }
        },
        "yaxis": {
         "anchor": "x",
         "domain": [
          0,
          1
         ],
         "title": {
          "text": "Number of Incidents"
         }
        }
       }
      },
      "text/html": [
       "<div>                            <div id=\"bb9060ba-cb7c-4963-bcc9-242e3fc1d53f\" class=\"plotly-graph-div\" style=\"height:525px; width:100%;\"></div>            <script type=\"text/javascript\">                require([\"plotly\"], function(Plotly) {                    window.PLOTLYENV=window.PLOTLYENV || {};                                    if (document.getElementById(\"bb9060ba-cb7c-4963-bcc9-242e3fc1d53f\")) {                    Plotly.newPlot(                        \"bb9060ba-cb7c-4963-bcc9-242e3fc1d53f\",                        [{\"hovertemplate\":\"Victim Age=%{x}\\u003cbr\\u003eNumber of Incidents=%{y}\\u003cextra\\u003e\\u003c\\u002fextra\\u003e\",\"legendgroup\":\"\",\"marker\":{\"color\":\"#636efa\",\"symbol\":\"circle\"},\"mode\":\"markers\",\"name\":\"\",\"orientation\":\"v\",\"showlegend\":false,\"x\":[1.0,2.0,3.0,4.0,5.0,6.0,7.0,8.0,9.0,10.0,11.0,12.0,13.0,14.0,15.0,16.0,17.0,18.0,19.0,20.0,21.0,22.0,23.0,24.0,25.0,26.0,27.0,28.0,29.0,30.0,31.0,32.0,33.0,34.0,35.0,36.0,37.0,38.0,39.0,40.0,41.0,42.0,43.0,44.0,45.0,46.0,47.0,48.0,49.0,50.0,51.0,52.0,53.0,54.0,55.0,56.0,57.0,58.0,59.0,60.0,61.0,62.0,63.0,64.0,65.0,66.0,67.0,68.0,69.0,70.0,71.0,72.0,73.0,74.0,75.0,76.0,77.0,78.0,79.0,80.0,81.0,82.0,83.0,84.0,85.0,86.0,87.0,88.0,89.0,90.0,91.0,92.0,93.0,94.0,95.0,96.0,97.0,98.0,99.0,100.0,101.0,104.0,105.0,110.0,114.0,120.0],\"xaxis\":\"x\",\"y\":[648,682,829,1033,1139,1140,1125,1037,1114,1157,1016,1267,1311,1565,1881,2302,2813,3792,4741,5785,6632,7662,8205,8545,9211,9717,9919,10599,10443,10818,10758,10256,9993,9806,9533,8897,8314,8478,8334,7912,7161,6935,6475,6044,5620,5109,4823,4803,4705,4770,4658,4230,4306,4230,4129,3860,3820,3552,3269,3100,2778,2458,2354,2095,1900,1731,1427,1345,1264,1099,1039,999,939,818,815,775,649,592,472,442,341,360,293,296,224,190,164,151,95,89,79,67,42,34,25,15,25,12,5,5,8,1,1,1,1,1],\"yaxis\":\"y\",\"type\":\"scatter\"}],                        {\"template\":{\"data\":{\"histogram2dcontour\":[{\"type\":\"histogram2dcontour\",\"colorbar\":{\"outlinewidth\":0,\"ticks\":\"\"},\"colorscale\":[[0.0,\"#0d0887\"],[0.1111111111111111,\"#46039f\"],[0.2222222222222222,\"#7201a8\"],[0.3333333333333333,\"#9c179e\"],[0.4444444444444444,\"#bd3786\"],[0.5555555555555556,\"#d8576b\"],[0.6666666666666666,\"#ed7953\"],[0.7777777777777778,\"#fb9f3a\"],[0.8888888888888888,\"#fdca26\"],[1.0,\"#f0f921\"]]}],\"choropleth\":[{\"type\":\"choropleth\",\"colorbar\":{\"outlinewidth\":0,\"ticks\":\"\"}}],\"histogram2d\":[{\"type\":\"histogram2d\",\"colorbar\":{\"outlinewidth\":0,\"ticks\":\"\"},\"colorscale\":[[0.0,\"#0d0887\"],[0.1111111111111111,\"#46039f\"],[0.2222222222222222,\"#7201a8\"],[0.3333333333333333,\"#9c179e\"],[0.4444444444444444,\"#bd3786\"],[0.5555555555555556,\"#d8576b\"],[0.6666666666666666,\"#ed7953\"],[0.7777777777777778,\"#fb9f3a\"],[0.8888888888888888,\"#fdca26\"],[1.0,\"#f0f921\"]]}],\"heatmap\":[{\"type\":\"heatmap\",\"colorbar\":{\"outlinewidth\":0,\"ticks\":\"\"},\"colorscale\":[[0.0,\"#0d0887\"],[0.1111111111111111,\"#46039f\"],[0.2222222222222222,\"#7201a8\"],[0.3333333333333333,\"#9c179e\"],[0.4444444444444444,\"#bd3786\"],[0.5555555555555556,\"#d8576b\"],[0.6666666666666666,\"#ed7953\"],[0.7777777777777778,\"#fb9f3a\"],[0.8888888888888888,\"#fdca26\"],[1.0,\"#f0f921\"]]}],\"heatmapgl\":[{\"type\":\"heatmapgl\",\"colorbar\":{\"outlinewidth\":0,\"ticks\":\"\"},\"colorscale\":[[0.0,\"#0d0887\"],[0.1111111111111111,\"#46039f\"],[0.2222222222222222,\"#7201a8\"],[0.3333333333333333,\"#9c179e\"],[0.4444444444444444,\"#bd3786\"],[0.5555555555555556,\"#d8576b\"],[0.6666666666666666,\"#ed7953\"],[0.7777777777777778,\"#fb9f3a\"],[0.8888888888888888,\"#fdca26\"],[1.0,\"#f0f921\"]]}],\"contourcarpet\":[{\"type\":\"contourcarpet\",\"colorbar\":{\"outlinewidth\":0,\"ticks\":\"\"}}],\"contour\":[{\"type\":\"contour\",\"colorbar\":{\"outlinewidth\":0,\"ticks\":\"\"},\"colorscale\":[[0.0,\"#0d0887\"],[0.1111111111111111,\"#46039f\"],[0.2222222222222222,\"#7201a8\"],[0.3333333333333333,\"#9c179e\"],[0.4444444444444444,\"#bd3786\"],[0.5555555555555556,\"#d8576b\"],[0.6666666666666666,\"#ed7953\"],[0.7777777777777778,\"#fb9f3a\"],[0.8888888888888888,\"#fdca26\"],[1.0,\"#f0f921\"]]}],\"surface\":[{\"type\":\"surface\",\"colorbar\":{\"outlinewidth\":0,\"ticks\":\"\"},\"colorscale\":[[0.0,\"#0d0887\"],[0.1111111111111111,\"#46039f\"],[0.2222222222222222,\"#7201a8\"],[0.3333333333333333,\"#9c179e\"],[0.4444444444444444,\"#bd3786\"],[0.5555555555555556,\"#d8576b\"],[0.6666666666666666,\"#ed7953\"],[0.7777777777777778,\"#fb9f3a\"],[0.8888888888888888,\"#fdca26\"],[1.0,\"#f0f921\"]]}],\"mesh3d\":[{\"type\":\"mesh3d\",\"colorbar\":{\"outlinewidth\":0,\"ticks\":\"\"}}],\"scatter\":[{\"fillpattern\":{\"fillmode\":\"overlay\",\"size\":10,\"solidity\":0.2},\"type\":\"scatter\"}],\"parcoords\":[{\"type\":\"parcoords\",\"line\":{\"colorbar\":{\"outlinewidth\":0,\"ticks\":\"\"}}}],\"scatterpolargl\":[{\"type\":\"scatterpolargl\",\"marker\":{\"colorbar\":{\"outlinewidth\":0,\"ticks\":\"\"}}}],\"bar\":[{\"error_x\":{\"color\":\"#2a3f5f\"},\"error_y\":{\"color\":\"#2a3f5f\"},\"marker\":{\"line\":{\"color\":\"#E5ECF6\",\"width\":0.5},\"pattern\":{\"fillmode\":\"overlay\",\"size\":10,\"solidity\":0.2}},\"type\":\"bar\"}],\"scattergeo\":[{\"type\":\"scattergeo\",\"marker\":{\"colorbar\":{\"outlinewidth\":0,\"ticks\":\"\"}}}],\"scatterpolar\":[{\"type\":\"scatterpolar\",\"marker\":{\"colorbar\":{\"outlinewidth\":0,\"ticks\":\"\"}}}],\"histogram\":[{\"marker\":{\"pattern\":{\"fillmode\":\"overlay\",\"size\":10,\"solidity\":0.2}},\"type\":\"histogram\"}],\"scattergl\":[{\"type\":\"scattergl\",\"marker\":{\"colorbar\":{\"outlinewidth\":0,\"ticks\":\"\"}}}],\"scatter3d\":[{\"type\":\"scatter3d\",\"line\":{\"colorbar\":{\"outlinewidth\":0,\"ticks\":\"\"}},\"marker\":{\"colorbar\":{\"outlinewidth\":0,\"ticks\":\"\"}}}],\"scattermapbox\":[{\"type\":\"scattermapbox\",\"marker\":{\"colorbar\":{\"outlinewidth\":0,\"ticks\":\"\"}}}],\"scatterternary\":[{\"type\":\"scatterternary\",\"marker\":{\"colorbar\":{\"outlinewidth\":0,\"ticks\":\"\"}}}],\"scattercarpet\":[{\"type\":\"scattercarpet\",\"marker\":{\"colorbar\":{\"outlinewidth\":0,\"ticks\":\"\"}}}],\"carpet\":[{\"aaxis\":{\"endlinecolor\":\"#2a3f5f\",\"gridcolor\":\"white\",\"linecolor\":\"white\",\"minorgridcolor\":\"white\",\"startlinecolor\":\"#2a3f5f\"},\"baxis\":{\"endlinecolor\":\"#2a3f5f\",\"gridcolor\":\"white\",\"linecolor\":\"white\",\"minorgridcolor\":\"white\",\"startlinecolor\":\"#2a3f5f\"},\"type\":\"carpet\"}],\"table\":[{\"cells\":{\"fill\":{\"color\":\"#EBF0F8\"},\"line\":{\"color\":\"white\"}},\"header\":{\"fill\":{\"color\":\"#C8D4E3\"},\"line\":{\"color\":\"white\"}},\"type\":\"table\"}],\"barpolar\":[{\"marker\":{\"line\":{\"color\":\"#E5ECF6\",\"width\":0.5},\"pattern\":{\"fillmode\":\"overlay\",\"size\":10,\"solidity\":0.2}},\"type\":\"barpolar\"}],\"pie\":[{\"automargin\":true,\"type\":\"pie\"}]},\"layout\":{\"autotypenumbers\":\"strict\",\"colorway\":[\"#636efa\",\"#EF553B\",\"#00cc96\",\"#ab63fa\",\"#FFA15A\",\"#19d3f3\",\"#FF6692\",\"#B6E880\",\"#FF97FF\",\"#FECB52\"],\"font\":{\"color\":\"#2a3f5f\"},\"hovermode\":\"closest\",\"hoverlabel\":{\"align\":\"left\"},\"paper_bgcolor\":\"white\",\"plot_bgcolor\":\"#E5ECF6\",\"polar\":{\"bgcolor\":\"#E5ECF6\",\"angularaxis\":{\"gridcolor\":\"white\",\"linecolor\":\"white\",\"ticks\":\"\"},\"radialaxis\":{\"gridcolor\":\"white\",\"linecolor\":\"white\",\"ticks\":\"\"}},\"ternary\":{\"bgcolor\":\"#E5ECF6\",\"aaxis\":{\"gridcolor\":\"white\",\"linecolor\":\"white\",\"ticks\":\"\"},\"baxis\":{\"gridcolor\":\"white\",\"linecolor\":\"white\",\"ticks\":\"\"},\"caxis\":{\"gridcolor\":\"white\",\"linecolor\":\"white\",\"ticks\":\"\"}},\"coloraxis\":{\"colorbar\":{\"outlinewidth\":0,\"ticks\":\"\"}},\"colorscale\":{\"sequential\":[[0.0,\"#0d0887\"],[0.1111111111111111,\"#46039f\"],[0.2222222222222222,\"#7201a8\"],[0.3333333333333333,\"#9c179e\"],[0.4444444444444444,\"#bd3786\"],[0.5555555555555556,\"#d8576b\"],[0.6666666666666666,\"#ed7953\"],[0.7777777777777778,\"#fb9f3a\"],[0.8888888888888888,\"#fdca26\"],[1.0,\"#f0f921\"]],\"sequentialminus\":[[0.0,\"#0d0887\"],[0.1111111111111111,\"#46039f\"],[0.2222222222222222,\"#7201a8\"],[0.3333333333333333,\"#9c179e\"],[0.4444444444444444,\"#bd3786\"],[0.5555555555555556,\"#d8576b\"],[0.6666666666666666,\"#ed7953\"],[0.7777777777777778,\"#fb9f3a\"],[0.8888888888888888,\"#fdca26\"],[1.0,\"#f0f921\"]],\"diverging\":[[0,\"#8e0152\"],[0.1,\"#c51b7d\"],[0.2,\"#de77ae\"],[0.3,\"#f1b6da\"],[0.4,\"#fde0ef\"],[0.5,\"#f7f7f7\"],[0.6,\"#e6f5d0\"],[0.7,\"#b8e186\"],[0.8,\"#7fbc41\"],[0.9,\"#4d9221\"],[1,\"#276419\"]]},\"xaxis\":{\"gridcolor\":\"white\",\"linecolor\":\"white\",\"ticks\":\"\",\"title\":{\"standoff\":15},\"zerolinecolor\":\"white\",\"automargin\":true,\"zerolinewidth\":2},\"yaxis\":{\"gridcolor\":\"white\",\"linecolor\":\"white\",\"ticks\":\"\",\"title\":{\"standoff\":15},\"zerolinecolor\":\"white\",\"automargin\":true,\"zerolinewidth\":2},\"scene\":{\"xaxis\":{\"backgroundcolor\":\"#E5ECF6\",\"gridcolor\":\"white\",\"linecolor\":\"white\",\"showbackground\":true,\"ticks\":\"\",\"zerolinecolor\":\"white\",\"gridwidth\":2},\"yaxis\":{\"backgroundcolor\":\"#E5ECF6\",\"gridcolor\":\"white\",\"linecolor\":\"white\",\"showbackground\":true,\"ticks\":\"\",\"zerolinecolor\":\"white\",\"gridwidth\":2},\"zaxis\":{\"backgroundcolor\":\"#E5ECF6\",\"gridcolor\":\"white\",\"linecolor\":\"white\",\"showbackground\":true,\"ticks\":\"\",\"zerolinecolor\":\"white\",\"gridwidth\":2}},\"shapedefaults\":{\"line\":{\"color\":\"#2a3f5f\"}},\"annotationdefaults\":{\"arrowcolor\":\"#2a3f5f\",\"arrowhead\":0,\"arrowwidth\":1},\"geo\":{\"bgcolor\":\"white\",\"landcolor\":\"#E5ECF6\",\"subunitcolor\":\"white\",\"showland\":true,\"showlakes\":true,\"lakecolor\":\"white\"},\"title\":{\"x\":0.05},\"mapbox\":{\"style\":\"light\"}}},\"xaxis\":{\"anchor\":\"y\",\"domain\":[0.0,1.0],\"title\":{\"text\":\"Victim Age\"}},\"yaxis\":{\"anchor\":\"x\",\"domain\":[0.0,1.0],\"title\":{\"text\":\"Number of Incidents\"}},\"legend\":{\"tracegroupgap\":0},\"title\":{\"text\":\"Scatter Plot of Victim Age vs. Number of Incidents 2020-2021\"}},                        {\"responsive\": true}                    ).then(function(){\n",
       "                            \n",
       "var gd = document.getElementById('bb9060ba-cb7c-4963-bcc9-242e3fc1d53f');\n",
       "var x = new MutationObserver(function (mutations, observer) {{\n",
       "        var display = window.getComputedStyle(gd).display;\n",
       "        if (!display || display === 'none') {{\n",
       "            console.log([gd, 'removed!']);\n",
       "            Plotly.purge(gd);\n",
       "            observer.disconnect();\n",
       "        }}\n",
       "}});\n",
       "\n",
       "// Listen for the removal of the full notebook cells\n",
       "var notebookContainer = gd.closest('#notebook-container');\n",
       "if (notebookContainer) {{\n",
       "    x.observe(notebookContainer, {childList: true});\n",
       "}}\n",
       "\n",
       "// Listen for the clearing of the current output cell\n",
       "var outputEl = gd.closest('.output');\n",
       "if (outputEl) {{\n",
       "    x.observe(outputEl, {childList: true});\n",
       "}}\n",
       "\n",
       "                        })                };                });            </script>        </div>"
      ]
     },
     "metadata": {},
     "output_type": "display_data"
    }
   ],
   "source": [
    "fig = px.scatter(\n",
    "    counts,\n",
    "    x='Victim Reported Age',\n",
    "    y='Number of Incidents',\n",
    "    title='Scatter Plot of Victim Age vs. Number of Incidents 2020-2021',\n",
    "    labels={'Victim Reported Age': 'Victim Age', 'Number of Incidents': 'Number of Incidents'},\n",
    "    template='plotly'\n",
    ")\n",
    "\n",
    "fig.show()"
   ]
  },
  {
   "cell_type": "markdown",
   "metadata": {},
   "source": [
    "This is where the plotly.express package comes in handy! The shorthand px stands for the plotly.express package. I gave plotly.express the data frame called counts to work from. Match up the columns of data for the x-axis and y-axis. As with any graph, you have to title it and label your axes. fig.show() then produces your graph to see!"
   ]
  },
  {
   "cell_type": "code",
   "execution_count": 72,
   "metadata": {},
   "outputs": [
    {
     "name": "stdout",
     "output_type": "stream",
     "text": [
      "Spearman Correlation:                      Victim Reported Age  Number of Incidents\n",
      "Victim Reported Age             1.000000            -0.656622\n",
      "Number of Incidents            -0.656622             1.000000\n"
     ]
    }
   ],
   "source": [
    "spearman_corr = counts.corr(method='spearman')\n",
    "print(f\"Spearman Correlation: {spearman_corr}\")"
   ]
  },
  {
   "cell_type": "markdown",
   "metadata": {},
   "source": [
    "I explain why I calculated the Spearman correlation further down in the webpage during my final analysis of the data. "
   ]
  },
  {
   "cell_type": "code",
   "execution_count": 73,
   "metadata": {},
   "outputs": [
    {
     "name": "stdout",
     "output_type": "stream",
     "text": [
      "Correlation Coefficient (Pearson): -0.51\n"
     ]
    }
   ],
   "source": [
    "import numpy as np\n",
    "\n",
    "# Extract the two variables\n",
    "x = counts['Victim Reported Age']\n",
    "y = counts['Number of Incidents']\n",
    "\n",
    "# Calculate the correlation coefficient (Pearson by default)\n",
    "correlation = np.corrcoef(x, y)[0, 1]\n",
    "\n",
    "# Print the correlation value\n",
    "print(f\"Correlation Coefficient (Pearson): {correlation:.2f}\")"
   ]
  },
  {
   "cell_type": "markdown",
   "metadata": {},
   "source": [
    "I calculated the Pearson coefficient out of curiosity as well as to explain why I did not chose to use this coefficient. I also wanted to see how close it is to the Spearman coefficient. The Pearson coeffeicient is not useful for this data analysis because the scatterplot shows a non-linear relationship of the variables and the Pearson correlation coefficient better describes linear relationships. "
   ]
  },
  {
   "cell_type": "code",
   "execution_count": 74,
   "metadata": {},
   "outputs": [
    {
     "name": "stdout",
     "output_type": "stream",
     "text": [
      "Mode(s) of Victim Reported Age: [30.0]\n"
     ]
    }
   ],
   "source": [
    "mode_value = GBV['Victim Reported Age'].mode()\n",
    "print(f\"Mode(s) of Victim Reported Age: {mode_value.tolist()}\")"
   ]
  },
  {
   "cell_type": "markdown",
   "metadata": {},
   "source": [
    "Like I previously explained, .mode(), .mean(), .min(), .max(), .median() are all native functions or \"tools\" of the pandas package. I am storing the information I get from the line of code in a variable with new name like \"mode_value\" and then having the mode returned to me by using the print function. You will see this same action in the next few lines of code."
   ]
  },
  {
   "cell_type": "code",
   "execution_count": 75,
   "metadata": {},
   "outputs": [
    {
     "name": "stdout",
     "output_type": "stream",
     "text": [
      "The maximum value in 'Victim Reported Age' is: 120.0\n"
     ]
    }
   ],
   "source": [
    "max_value = GBV['Victim Reported Age'].max()\n",
    "print(f\"The maximum value in 'Victim Reported Age' is: {max_value}\")"
   ]
  },
  {
   "cell_type": "code",
   "execution_count": 76,
   "metadata": {},
   "outputs": [
    {
     "name": "stdout",
     "output_type": "stream",
     "text": [
      "The minimum value in 'Victim Reported Age' is: 1.0\n"
     ]
    }
   ],
   "source": [
    "min_value = GBV['Victim Reported Age'].min()\n",
    "print(f\"The minimum value in 'Victim Reported Age' is: {min_value}\")"
   ]
  },
  {
   "cell_type": "code",
   "execution_count": 77,
   "metadata": {},
   "outputs": [
    {
     "name": "stdout",
     "output_type": "stream",
     "text": [
      "The mean value in 'Victim Reported Age' is: 37.193310190291534\n"
     ]
    }
   ],
   "source": [
    "mean_value = GBV['Victim Reported Age'].mean()\n",
    "print(f\"The mean value in 'Victim Reported Age' is: {mean_value}\")"
   ]
  },
  {
   "cell_type": "code",
   "execution_count": 78,
   "metadata": {},
   "outputs": [
    {
     "name": "stdout",
     "output_type": "stream",
     "text": [
      "The median value in 'Victim Reported Age' is: 35.0\n"
     ]
    }
   ],
   "source": [
    "median_value = GBV['Victim Reported Age'].median()\n",
    "print(f\"The median value in 'Victim Reported Age' is: {median_value}\")"
   ]
  },
  {
   "cell_type": "markdown",
   "metadata": {},
   "source": [
    "The scatterplot demonstrates enough evidence to reject my initial hypothesis. The data provided by NYC OpenData for years 2020 and 2021 shows a right-skewed distribution and quadratic relationship. The mean age for incidents of domestic violence will be higher than the median age for incidents of domestic violence. The scatter plot shows a weak negative correlation between the two variables with a correlation coefficient of -0.656622. I am using the Spearman correlation coefficient because it measures the monotonic relationship between two variables in non-linear data. What surprised me and disappointed me the most is seeing that incidents of GBV go as high as 120 years of age. Most of the data is centered around 20-40 years of age indicating that highest frequencies of domestic violence occur between 20-40 years of age. I did not distinguish between males and females so please bear in mind that this data analysis includes both genders. Columns in the data above show that domestic violence does happen to both genders. The scatterplot's peak is shown at age 30 which tells me that it is the mode for our data. Toggling over the chart, one can see that the number of incidents at the age of 30 totaled 10,818,000. I coded for the mode to cross-check my scatter plot which also gave 30 years of age. In future analysis, one should study the relationship between the incidents of domestic violence and victim's gender in NYC in the years of 2020 and 2021 to understand if the same relationship trends seen in this study still hold true. \n",
    "\n",
    "Research Question: Do incidents of gender-based violence (GBV) increase as the age of the victim decreases? I am asking if there is an inverse relationship between incidents of violence and victims' ages. \n",
    "\n",
    "Answer: Yes, the second half of the scatterplot shows that after the age of 30 the incidents of GBV have an inverse relationship with victims' age. The correlation coefficient of -0.656622 supports this conclusion. It is also important to note that because of the quadratic nature of the relationship between the variables that one can say that incidents of GBV increasing as age increases is also true.  "
   ]
  }
 ],
 "metadata": {
  "kernelspec": {
   "display_name": "base",
   "language": "python",
   "name": "python3"
  },
  "language_info": {
   "codemirror_mode": {
    "name": "ipython",
    "version": 3
   },
   "file_extension": ".py",
   "mimetype": "text/x-python",
   "name": "python",
   "nbconvert_exporter": "python",
   "pygments_lexer": "ipython3",
   "version": "3.12.3"
  }
 },
 "nbformat": 4,
 "nbformat_minor": 2
}
