{
 "cells": [
  {
   "cell_type": "code",
   "execution_count": 147,
   "id": "d46a8f1d-7620-4a29-8c1d-93632b49fd0e",
   "metadata": {},
   "outputs": [],
   "source": [
    "import pandas as pd\n",
    "import plotly.express as px"
   ]
  },
  {
   "cell_type": "code",
   "execution_count": 470,
   "id": "89d35802-d1a7-4cef-a2f2-eeaf1b60bf6f",
   "metadata": {},
   "outputs": [
    {
     "data": {
      "text/html": [
       "<div>\n",
       "<style scoped>\n",
       "    .dataframe tbody tr th:only-of-type {\n",
       "        vertical-align: middle;\n",
       "    }\n",
       "\n",
       "    .dataframe tbody tr th {\n",
       "        vertical-align: top;\n",
       "    }\n",
       "\n",
       "    .dataframe thead th {\n",
       "        text-align: right;\n",
       "    }\n",
       "</style>\n",
       "<table border=\"1\" class=\"dataframe\">\n",
       "  <thead>\n",
       "    <tr style=\"text-align: right;\">\n",
       "      <th></th>\n",
       "      <th>STRUCTURE</th>\n",
       "      <th>STRUCTURE_ID</th>\n",
       "      <th>STRUCTURE_NAME</th>\n",
       "      <th>ACTION</th>\n",
       "      <th>REF_AREA</th>\n",
       "      <th>Reference area</th>\n",
       "      <th>FREQ</th>\n",
       "      <th>Frequency of observation</th>\n",
       "      <th>MEASURE</th>\n",
       "      <th>Measure</th>\n",
       "      <th>...</th>\n",
       "      <th>DECIMALS</th>\n",
       "      <th>Decimals</th>\n",
       "      <th>OBS_STATUS</th>\n",
       "      <th>Observation status</th>\n",
       "      <th>OBS_STATUS2</th>\n",
       "      <th>Observation status 2</th>\n",
       "      <th>OBS_STATUS3</th>\n",
       "      <th>Observation status 3</th>\n",
       "      <th>UNIT_MULT</th>\n",
       "      <th>Unit multiplier</th>\n",
       "    </tr>\n",
       "  </thead>\n",
       "  <tbody>\n",
       "    <tr>\n",
       "      <th>0</th>\n",
       "      <td>DATAFLOW</td>\n",
       "      <td>OECD.ELS.HD:DSD_HCQO@DF_CC(1.0)</td>\n",
       "      <td>Cancer care</td>\n",
       "      <td>I</td>\n",
       "      <td>CAN</td>\n",
       "      <td>Canada</td>\n",
       "      <td>A</td>\n",
       "      <td>Annual</td>\n",
       "      <td>CCCLNTSR</td>\n",
       "      <td>Colon cancer five-year net survival</td>\n",
       "      <td>...</td>\n",
       "      <td>1</td>\n",
       "      <td>One</td>\n",
       "      <td>NaN</td>\n",
       "      <td>NaN</td>\n",
       "      <td>NaN</td>\n",
       "      <td>NaN</td>\n",
       "      <td>NaN</td>\n",
       "      <td>NaN</td>\n",
       "      <td>0</td>\n",
       "      <td>Units</td>\n",
       "    </tr>\n",
       "    <tr>\n",
       "      <th>1</th>\n",
       "      <td>DATAFLOW</td>\n",
       "      <td>OECD.ELS.HD:DSD_HCQO@DF_CC(1.0)</td>\n",
       "      <td>Cancer care</td>\n",
       "      <td>I</td>\n",
       "      <td>CAN</td>\n",
       "      <td>Canada</td>\n",
       "      <td>A</td>\n",
       "      <td>Annual</td>\n",
       "      <td>CCCLNTSR</td>\n",
       "      <td>Colon cancer five-year net survival</td>\n",
       "      <td>...</td>\n",
       "      <td>1</td>\n",
       "      <td>One</td>\n",
       "      <td>NaN</td>\n",
       "      <td>NaN</td>\n",
       "      <td>NaN</td>\n",
       "      <td>NaN</td>\n",
       "      <td>NaN</td>\n",
       "      <td>NaN</td>\n",
       "      <td>0</td>\n",
       "      <td>Units</td>\n",
       "    </tr>\n",
       "    <tr>\n",
       "      <th>2</th>\n",
       "      <td>DATAFLOW</td>\n",
       "      <td>OECD.ELS.HD:DSD_HCQO@DF_CC(1.0)</td>\n",
       "      <td>Cancer care</td>\n",
       "      <td>I</td>\n",
       "      <td>TUR</td>\n",
       "      <td>Türkiye</td>\n",
       "      <td>A</td>\n",
       "      <td>Annual</td>\n",
       "      <td>CCCLNTSR</td>\n",
       "      <td>Colon cancer five-year net survival</td>\n",
       "      <td>...</td>\n",
       "      <td>1</td>\n",
       "      <td>One</td>\n",
       "      <td>NaN</td>\n",
       "      <td>NaN</td>\n",
       "      <td>NaN</td>\n",
       "      <td>NaN</td>\n",
       "      <td>NaN</td>\n",
       "      <td>NaN</td>\n",
       "      <td>0</td>\n",
       "      <td>Units</td>\n",
       "    </tr>\n",
       "    <tr>\n",
       "      <th>3</th>\n",
       "      <td>DATAFLOW</td>\n",
       "      <td>OECD.ELS.HD:DSD_HCQO@DF_CC(1.0)</td>\n",
       "      <td>Cancer care</td>\n",
       "      <td>I</td>\n",
       "      <td>TUR</td>\n",
       "      <td>Türkiye</td>\n",
       "      <td>A</td>\n",
       "      <td>Annual</td>\n",
       "      <td>CCCLNTSR</td>\n",
       "      <td>Colon cancer five-year net survival</td>\n",
       "      <td>...</td>\n",
       "      <td>1</td>\n",
       "      <td>One</td>\n",
       "      <td>NaN</td>\n",
       "      <td>NaN</td>\n",
       "      <td>NaN</td>\n",
       "      <td>NaN</td>\n",
       "      <td>NaN</td>\n",
       "      <td>NaN</td>\n",
       "      <td>0</td>\n",
       "      <td>Units</td>\n",
       "    </tr>\n",
       "    <tr>\n",
       "      <th>4</th>\n",
       "      <td>DATAFLOW</td>\n",
       "      <td>OECD.ELS.HD:DSD_HCQO@DF_CC(1.0)</td>\n",
       "      <td>Cancer care</td>\n",
       "      <td>I</td>\n",
       "      <td>ISR</td>\n",
       "      <td>Israel</td>\n",
       "      <td>A</td>\n",
       "      <td>Annual</td>\n",
       "      <td>CCCLNTSR</td>\n",
       "      <td>Colon cancer five-year net survival</td>\n",
       "      <td>...</td>\n",
       "      <td>1</td>\n",
       "      <td>One</td>\n",
       "      <td>NaN</td>\n",
       "      <td>NaN</td>\n",
       "      <td>NaN</td>\n",
       "      <td>NaN</td>\n",
       "      <td>NaN</td>\n",
       "      <td>NaN</td>\n",
       "      <td>0</td>\n",
       "      <td>Units</td>\n",
       "    </tr>\n",
       "    <tr>\n",
       "      <th>...</th>\n",
       "      <td>...</td>\n",
       "      <td>...</td>\n",
       "      <td>...</td>\n",
       "      <td>...</td>\n",
       "      <td>...</td>\n",
       "      <td>...</td>\n",
       "      <td>...</td>\n",
       "      <td>...</td>\n",
       "      <td>...</td>\n",
       "      <td>...</td>\n",
       "      <td>...</td>\n",
       "      <td>...</td>\n",
       "      <td>...</td>\n",
       "      <td>...</td>\n",
       "      <td>...</td>\n",
       "      <td>...</td>\n",
       "      <td>...</td>\n",
       "      <td>...</td>\n",
       "      <td>...</td>\n",
       "      <td>...</td>\n",
       "      <td>...</td>\n",
       "    </tr>\n",
       "    <tr>\n",
       "      <th>2145</th>\n",
       "      <td>DATAFLOW</td>\n",
       "      <td>OECD.ELS.HD:DSD_HCQO@DF_CC(1.0)</td>\n",
       "      <td>Cancer care</td>\n",
       "      <td>I</td>\n",
       "      <td>DEU</td>\n",
       "      <td>Germany</td>\n",
       "      <td>A</td>\n",
       "      <td>Annual</td>\n",
       "      <td>CCLUNTSR</td>\n",
       "      <td>Lung cancer five-year net survival</td>\n",
       "      <td>...</td>\n",
       "      <td>1</td>\n",
       "      <td>One</td>\n",
       "      <td>NaN</td>\n",
       "      <td>NaN</td>\n",
       "      <td>NaN</td>\n",
       "      <td>NaN</td>\n",
       "      <td>NaN</td>\n",
       "      <td>NaN</td>\n",
       "      <td>0</td>\n",
       "      <td>Units</td>\n",
       "    </tr>\n",
       "    <tr>\n",
       "      <th>2146</th>\n",
       "      <td>DATAFLOW</td>\n",
       "      <td>OECD.ELS.HD:DSD_HCQO@DF_CC(1.0)</td>\n",
       "      <td>Cancer care</td>\n",
       "      <td>I</td>\n",
       "      <td>SVK</td>\n",
       "      <td>Slovak Republic</td>\n",
       "      <td>A</td>\n",
       "      <td>Annual</td>\n",
       "      <td>CCLKNTSR</td>\n",
       "      <td>Childhood acute lymphoblastic leukaemia five-y...</td>\n",
       "      <td>...</td>\n",
       "      <td>1</td>\n",
       "      <td>One</td>\n",
       "      <td>NaN</td>\n",
       "      <td>NaN</td>\n",
       "      <td>NaN</td>\n",
       "      <td>NaN</td>\n",
       "      <td>NaN</td>\n",
       "      <td>NaN</td>\n",
       "      <td>0</td>\n",
       "      <td>Units</td>\n",
       "    </tr>\n",
       "    <tr>\n",
       "      <th>2147</th>\n",
       "      <td>DATAFLOW</td>\n",
       "      <td>OECD.ELS.HD:DSD_HCQO@DF_CC(1.0)</td>\n",
       "      <td>Cancer care</td>\n",
       "      <td>I</td>\n",
       "      <td>ISL</td>\n",
       "      <td>Iceland</td>\n",
       "      <td>A</td>\n",
       "      <td>Annual</td>\n",
       "      <td>CCCLNTSR</td>\n",
       "      <td>Colon cancer five-year net survival</td>\n",
       "      <td>...</td>\n",
       "      <td>1</td>\n",
       "      <td>One</td>\n",
       "      <td>NaN</td>\n",
       "      <td>NaN</td>\n",
       "      <td>NaN</td>\n",
       "      <td>NaN</td>\n",
       "      <td>NaN</td>\n",
       "      <td>NaN</td>\n",
       "      <td>0</td>\n",
       "      <td>Units</td>\n",
       "    </tr>\n",
       "    <tr>\n",
       "      <th>2148</th>\n",
       "      <td>DATAFLOW</td>\n",
       "      <td>OECD.ELS.HD:DSD_HCQO@DF_CC(1.0)</td>\n",
       "      <td>Cancer care</td>\n",
       "      <td>I</td>\n",
       "      <td>USA</td>\n",
       "      <td>United States</td>\n",
       "      <td>A</td>\n",
       "      <td>Annual</td>\n",
       "      <td>CCRTNTSR</td>\n",
       "      <td>Rectal cancer five-year net survival</td>\n",
       "      <td>...</td>\n",
       "      <td>1</td>\n",
       "      <td>One</td>\n",
       "      <td>NaN</td>\n",
       "      <td>NaN</td>\n",
       "      <td>NaN</td>\n",
       "      <td>NaN</td>\n",
       "      <td>NaN</td>\n",
       "      <td>NaN</td>\n",
       "      <td>0</td>\n",
       "      <td>Units</td>\n",
       "    </tr>\n",
       "    <tr>\n",
       "      <th>2149</th>\n",
       "      <td>DATAFLOW</td>\n",
       "      <td>OECD.ELS.HD:DSD_HCQO@DF_CC(1.0)</td>\n",
       "      <td>Cancer care</td>\n",
       "      <td>I</td>\n",
       "      <td>AUT</td>\n",
       "      <td>Austria</td>\n",
       "      <td>A</td>\n",
       "      <td>Annual</td>\n",
       "      <td>CCCLNTSR</td>\n",
       "      <td>Colon cancer five-year net survival</td>\n",
       "      <td>...</td>\n",
       "      <td>1</td>\n",
       "      <td>One</td>\n",
       "      <td>NaN</td>\n",
       "      <td>NaN</td>\n",
       "      <td>NaN</td>\n",
       "      <td>NaN</td>\n",
       "      <td>NaN</td>\n",
       "      <td>NaN</td>\n",
       "      <td>0</td>\n",
       "      <td>Units</td>\n",
       "    </tr>\n",
       "  </tbody>\n",
       "</table>\n",
       "<p>2150 rows × 38 columns</p>\n",
       "</div>"
      ],
      "text/plain": [
       "     STRUCTURE                     STRUCTURE_ID STRUCTURE_NAME ACTION  \\\n",
       "0     DATAFLOW  OECD.ELS.HD:DSD_HCQO@DF_CC(1.0)    Cancer care      I   \n",
       "1     DATAFLOW  OECD.ELS.HD:DSD_HCQO@DF_CC(1.0)    Cancer care      I   \n",
       "2     DATAFLOW  OECD.ELS.HD:DSD_HCQO@DF_CC(1.0)    Cancer care      I   \n",
       "3     DATAFLOW  OECD.ELS.HD:DSD_HCQO@DF_CC(1.0)    Cancer care      I   \n",
       "4     DATAFLOW  OECD.ELS.HD:DSD_HCQO@DF_CC(1.0)    Cancer care      I   \n",
       "...        ...                              ...            ...    ...   \n",
       "2145  DATAFLOW  OECD.ELS.HD:DSD_HCQO@DF_CC(1.0)    Cancer care      I   \n",
       "2146  DATAFLOW  OECD.ELS.HD:DSD_HCQO@DF_CC(1.0)    Cancer care      I   \n",
       "2147  DATAFLOW  OECD.ELS.HD:DSD_HCQO@DF_CC(1.0)    Cancer care      I   \n",
       "2148  DATAFLOW  OECD.ELS.HD:DSD_HCQO@DF_CC(1.0)    Cancer care      I   \n",
       "2149  DATAFLOW  OECD.ELS.HD:DSD_HCQO@DF_CC(1.0)    Cancer care      I   \n",
       "\n",
       "     REF_AREA   Reference area FREQ Frequency of observation   MEASURE  \\\n",
       "0         CAN           Canada    A                   Annual  CCCLNTSR   \n",
       "1         CAN           Canada    A                   Annual  CCCLNTSR   \n",
       "2         TUR          Türkiye    A                   Annual  CCCLNTSR   \n",
       "3         TUR          Türkiye    A                   Annual  CCCLNTSR   \n",
       "4         ISR           Israel    A                   Annual  CCCLNTSR   \n",
       "...       ...              ...  ...                      ...       ...   \n",
       "2145      DEU          Germany    A                   Annual  CCLUNTSR   \n",
       "2146      SVK  Slovak Republic    A                   Annual  CCLKNTSR   \n",
       "2147      ISL          Iceland    A                   Annual  CCCLNTSR   \n",
       "2148      USA    United States    A                   Annual  CCRTNTSR   \n",
       "2149      AUT          Austria    A                   Annual  CCCLNTSR   \n",
       "\n",
       "                                                Measure  ... DECIMALS  \\\n",
       "0                   Colon cancer five-year net survival  ...        1   \n",
       "1                   Colon cancer five-year net survival  ...        1   \n",
       "2                   Colon cancer five-year net survival  ...        1   \n",
       "3                   Colon cancer five-year net survival  ...        1   \n",
       "4                   Colon cancer five-year net survival  ...        1   \n",
       "...                                                 ...  ...      ...   \n",
       "2145                 Lung cancer five-year net survival  ...        1   \n",
       "2146  Childhood acute lymphoblastic leukaemia five-y...  ...        1   \n",
       "2147                Colon cancer five-year net survival  ...        1   \n",
       "2148               Rectal cancer five-year net survival  ...        1   \n",
       "2149                Colon cancer five-year net survival  ...        1   \n",
       "\n",
       "     Decimals OBS_STATUS Observation status OBS_STATUS2 Observation status 2  \\\n",
       "0         One        NaN                NaN         NaN                  NaN   \n",
       "1         One        NaN                NaN         NaN                  NaN   \n",
       "2         One        NaN                NaN         NaN                  NaN   \n",
       "3         One        NaN                NaN         NaN                  NaN   \n",
       "4         One        NaN                NaN         NaN                  NaN   \n",
       "...       ...        ...                ...         ...                  ...   \n",
       "2145      One        NaN                NaN         NaN                  NaN   \n",
       "2146      One        NaN                NaN         NaN                  NaN   \n",
       "2147      One        NaN                NaN         NaN                  NaN   \n",
       "2148      One        NaN                NaN         NaN                  NaN   \n",
       "2149      One        NaN                NaN         NaN                  NaN   \n",
       "\n",
       "     OBS_STATUS3 Observation status 3  UNIT_MULT  Unit multiplier  \n",
       "0            NaN                  NaN          0            Units  \n",
       "1            NaN                  NaN          0            Units  \n",
       "2            NaN                  NaN          0            Units  \n",
       "3            NaN                  NaN          0            Units  \n",
       "4            NaN                  NaN          0            Units  \n",
       "...          ...                  ...        ...              ...  \n",
       "2145         NaN                  NaN          0            Units  \n",
       "2146         NaN                  NaN          0            Units  \n",
       "2147         NaN                  NaN          0            Units  \n",
       "2148         NaN                  NaN          0            Units  \n",
       "2149         NaN                  NaN          0            Units  \n",
       "\n",
       "[2150 rows x 38 columns]"
      ]
     },
     "execution_count": 470,
     "metadata": {},
     "output_type": "execute_result"
    }
   ],
   "source": [
    "cancercare = pd.read_csv(\"OECD.ELS.HD,DSD_HCQO@DF_CC,1.0+.A.....OBS.csv\")\n",
    "cancercare"
   ]
  },
  {
   "cell_type": "markdown",
   "id": "0bfa7424-7054-40bb-bca5-ef786e219ed1",
   "metadata": {},
   "source": [
    "Download the data"
   ]
  },
  {
   "cell_type": "markdown",
   "id": "83a8f897-8dc8-48ff-a651-a1ced7a883d7",
   "metadata": {},
   "source": [
    "URL: https://data-explorer.oecd.org/vis?df[ds]=dsDisseminateFinalDMZ&df[id]=DSD_HCQO%40DF_CC&df[ag]=OECD.ELS.HD&df[vs]=1.0&dq=.A.....OBS&pd=2004%2C&to[TIME_PERIOD]=false"
   ]
  },
  {
   "cell_type": "code",
   "execution_count": 474,
   "id": "e10000ea-8058-4e12-aa20-7c76c7c6c2a3",
   "metadata": {},
   "outputs": [
    {
     "name": "stdout",
     "output_type": "stream",
     "text": [
      "<class 'pandas.core.frame.DataFrame'>\n",
      "RangeIndex: 2150 entries, 0 to 2149\n",
      "Data columns (total 38 columns):\n",
      " #   Column                    Non-Null Count  Dtype  \n",
      "---  ------                    --------------  -----  \n",
      " 0   STRUCTURE                 2150 non-null   object \n",
      " 1   STRUCTURE_ID              2150 non-null   object \n",
      " 2   STRUCTURE_NAME            2150 non-null   object \n",
      " 3   ACTION                    2150 non-null   object \n",
      " 4   REF_AREA                  2150 non-null   object \n",
      " 5   Reference area            2150 non-null   object \n",
      " 6   FREQ                      2150 non-null   object \n",
      " 7   Frequency of observation  2150 non-null   object \n",
      " 8   MEASURE                   2150 non-null   object \n",
      " 9   Measure                   2150 non-null   object \n",
      " 10  UNIT_MEASURE              2150 non-null   object \n",
      " 11  Unit of measure           2150 non-null   object \n",
      " 12  AGE                       2150 non-null   object \n",
      " 13  Age                       2150 non-null   object \n",
      " 14  SEX                       2150 non-null   object \n",
      " 15  Sex                       2150 non-null   object \n",
      " 16  STATISTICAL_OPERATION     2150 non-null   object \n",
      " 17  Statistical operation     2150 non-null   object \n",
      " 18  TIME_PERIOD               2150 non-null   int64  \n",
      " 19  Time period               0 non-null      float64\n",
      " 20  OBS_VALUE                 2150 non-null   float64\n",
      " 21  Observation value         0 non-null      float64\n",
      " 22  HSPA                      0 non-null      float64\n",
      " 23  HSPA.1                    0 non-null      float64\n",
      " 24  METHODOLOGY               2150 non-null   object \n",
      " 25  Calculation methodology   2150 non-null   object \n",
      " 26  TIME_RANGE                2150 non-null   object \n",
      " 27  Time range                0 non-null      float64\n",
      " 28  DECIMALS                  2150 non-null   int64  \n",
      " 29  Decimals                  2150 non-null   object \n",
      " 30  OBS_STATUS                19 non-null     object \n",
      " 31  Observation status        19 non-null     object \n",
      " 32  OBS_STATUS2               0 non-null      float64\n",
      " 33  Observation status 2      0 non-null      float64\n",
      " 34  OBS_STATUS3               0 non-null      float64\n",
      " 35  Observation status 3      0 non-null      float64\n",
      " 36  UNIT_MULT                 2150 non-null   int64  \n",
      " 37  Unit multiplier           2150 non-null   object \n",
      "dtypes: float64(10), int64(3), object(25)\n",
      "memory usage: 638.4+ KB\n"
     ]
    }
   ],
   "source": [
    "cancercare.info()"
   ]
  },
  {
   "cell_type": "markdown",
   "id": "5a8c7d13-1f21-45f9-93e9-898165798324",
   "metadata": {},
   "source": [
    "Looking to see which columns are recorded as strings or floats"
   ]
  },
  {
   "cell_type": "code",
   "execution_count": 539,
   "id": "b003a327-a14c-44cb-b8d3-161931ea2e87",
   "metadata": {},
   "outputs": [
    {
     "data": {
      "text/html": [
       "<div>\n",
       "<style scoped>\n",
       "    .dataframe tbody tr th:only-of-type {\n",
       "        vertical-align: middle;\n",
       "    }\n",
       "\n",
       "    .dataframe tbody tr th {\n",
       "        vertical-align: top;\n",
       "    }\n",
       "\n",
       "    .dataframe thead th {\n",
       "        text-align: right;\n",
       "    }\n",
       "</style>\n",
       "<table border=\"1\" class=\"dataframe\">\n",
       "  <thead>\n",
       "    <tr style=\"text-align: right;\">\n",
       "      <th></th>\n",
       "      <th>STRUCTURE</th>\n",
       "      <th>STRUCTURE_ID</th>\n",
       "      <th>STRUCTURE_NAME</th>\n",
       "      <th>ACTION</th>\n",
       "      <th>REF_AREA</th>\n",
       "      <th>Reference area</th>\n",
       "      <th>MEASURE</th>\n",
       "      <th>Measure</th>\n",
       "      <th>UNIT_MEASURE</th>\n",
       "      <th>Unit of measure</th>\n",
       "      <th>...</th>\n",
       "      <th>OBS_STATUS</th>\n",
       "      <th>Observation status</th>\n",
       "      <th>OBS_STATUS2</th>\n",
       "      <th>Observation status 2</th>\n",
       "      <th>OBS_STATUS3</th>\n",
       "      <th>Observation status 3</th>\n",
       "      <th>UNIT_MULT</th>\n",
       "      <th>Unit multiplier</th>\n",
       "      <th>DECIMALS</th>\n",
       "      <th>Decimals</th>\n",
       "    </tr>\n",
       "  </thead>\n",
       "  <tbody>\n",
       "    <tr>\n",
       "      <th>0</th>\n",
       "      <td>DATAFLOW</td>\n",
       "      <td>OECD.ELS.HD:HEALTH_PHMC@DF_PHMC_SALES(1.0)</td>\n",
       "      <td>Pharmaceuticals sales</td>\n",
       "      <td>I</td>\n",
       "      <td>BEL</td>\n",
       "      <td>Belgium</td>\n",
       "      <td>PH_SALES</td>\n",
       "      <td>Pharmaceutical sales</td>\n",
       "      <td>USD_PPP_PS</td>\n",
       "      <td>US dollars per person, PPP converted</td>\n",
       "      <td>...</td>\n",
       "      <td>NaN</td>\n",
       "      <td>NaN</td>\n",
       "      <td>NaN</td>\n",
       "      <td>NaN</td>\n",
       "      <td>NaN</td>\n",
       "      <td>NaN</td>\n",
       "      <td>0</td>\n",
       "      <td>Units</td>\n",
       "      <td>NaN</td>\n",
       "      <td>NaN</td>\n",
       "    </tr>\n",
       "    <tr>\n",
       "      <th>1</th>\n",
       "      <td>DATAFLOW</td>\n",
       "      <td>OECD.ELS.HD:HEALTH_PHMC@DF_PHMC_SALES(1.0)</td>\n",
       "      <td>Pharmaceuticals sales</td>\n",
       "      <td>I</td>\n",
       "      <td>BEL</td>\n",
       "      <td>Belgium</td>\n",
       "      <td>PH_SALES</td>\n",
       "      <td>Pharmaceutical sales</td>\n",
       "      <td>USD_PPP_PS</td>\n",
       "      <td>US dollars per person, PPP converted</td>\n",
       "      <td>...</td>\n",
       "      <td>NaN</td>\n",
       "      <td>NaN</td>\n",
       "      <td>NaN</td>\n",
       "      <td>NaN</td>\n",
       "      <td>NaN</td>\n",
       "      <td>NaN</td>\n",
       "      <td>0</td>\n",
       "      <td>Units</td>\n",
       "      <td>NaN</td>\n",
       "      <td>NaN</td>\n",
       "    </tr>\n",
       "    <tr>\n",
       "      <th>2</th>\n",
       "      <td>DATAFLOW</td>\n",
       "      <td>OECD.ELS.HD:HEALTH_PHMC@DF_PHMC_SALES(1.0)</td>\n",
       "      <td>Pharmaceuticals sales</td>\n",
       "      <td>I</td>\n",
       "      <td>BEL</td>\n",
       "      <td>Belgium</td>\n",
       "      <td>PH_SALES</td>\n",
       "      <td>Pharmaceutical sales</td>\n",
       "      <td>USD_PPP_PS</td>\n",
       "      <td>US dollars per person, PPP converted</td>\n",
       "      <td>...</td>\n",
       "      <td>NaN</td>\n",
       "      <td>NaN</td>\n",
       "      <td>NaN</td>\n",
       "      <td>NaN</td>\n",
       "      <td>NaN</td>\n",
       "      <td>NaN</td>\n",
       "      <td>0</td>\n",
       "      <td>Units</td>\n",
       "      <td>NaN</td>\n",
       "      <td>NaN</td>\n",
       "    </tr>\n",
       "    <tr>\n",
       "      <th>3</th>\n",
       "      <td>DATAFLOW</td>\n",
       "      <td>OECD.ELS.HD:HEALTH_PHMC@DF_PHMC_SALES(1.0)</td>\n",
       "      <td>Pharmaceuticals sales</td>\n",
       "      <td>I</td>\n",
       "      <td>BEL</td>\n",
       "      <td>Belgium</td>\n",
       "      <td>PH_SALES</td>\n",
       "      <td>Pharmaceutical sales</td>\n",
       "      <td>USD_PPP_PS</td>\n",
       "      <td>US dollars per person, PPP converted</td>\n",
       "      <td>...</td>\n",
       "      <td>NaN</td>\n",
       "      <td>NaN</td>\n",
       "      <td>NaN</td>\n",
       "      <td>NaN</td>\n",
       "      <td>NaN</td>\n",
       "      <td>NaN</td>\n",
       "      <td>0</td>\n",
       "      <td>Units</td>\n",
       "      <td>NaN</td>\n",
       "      <td>NaN</td>\n",
       "    </tr>\n",
       "    <tr>\n",
       "      <th>4</th>\n",
       "      <td>DATAFLOW</td>\n",
       "      <td>OECD.ELS.HD:HEALTH_PHMC@DF_PHMC_SALES(1.0)</td>\n",
       "      <td>Pharmaceuticals sales</td>\n",
       "      <td>I</td>\n",
       "      <td>BEL</td>\n",
       "      <td>Belgium</td>\n",
       "      <td>PH_SALES</td>\n",
       "      <td>Pharmaceutical sales</td>\n",
       "      <td>USD_PPP_PS</td>\n",
       "      <td>US dollars per person, PPP converted</td>\n",
       "      <td>...</td>\n",
       "      <td>NaN</td>\n",
       "      <td>NaN</td>\n",
       "      <td>NaN</td>\n",
       "      <td>NaN</td>\n",
       "      <td>NaN</td>\n",
       "      <td>NaN</td>\n",
       "      <td>0</td>\n",
       "      <td>Units</td>\n",
       "      <td>NaN</td>\n",
       "      <td>NaN</td>\n",
       "    </tr>\n",
       "    <tr>\n",
       "      <th>...</th>\n",
       "      <td>...</td>\n",
       "      <td>...</td>\n",
       "      <td>...</td>\n",
       "      <td>...</td>\n",
       "      <td>...</td>\n",
       "      <td>...</td>\n",
       "      <td>...</td>\n",
       "      <td>...</td>\n",
       "      <td>...</td>\n",
       "      <td>...</td>\n",
       "      <td>...</td>\n",
       "      <td>...</td>\n",
       "      <td>...</td>\n",
       "      <td>...</td>\n",
       "      <td>...</td>\n",
       "      <td>...</td>\n",
       "      <td>...</td>\n",
       "      <td>...</td>\n",
       "      <td>...</td>\n",
       "      <td>...</td>\n",
       "      <td>...</td>\n",
       "    </tr>\n",
       "    <tr>\n",
       "      <th>387</th>\n",
       "      <td>DATAFLOW</td>\n",
       "      <td>OECD.ELS.HD:HEALTH_PHMC@DF_PHMC_SALES(1.0)</td>\n",
       "      <td>Pharmaceuticals sales</td>\n",
       "      <td>I</td>\n",
       "      <td>KOR</td>\n",
       "      <td>Korea</td>\n",
       "      <td>PH_SALES</td>\n",
       "      <td>Pharmaceutical sales</td>\n",
       "      <td>USD_PPP_PS</td>\n",
       "      <td>US dollars per person, PPP converted</td>\n",
       "      <td>...</td>\n",
       "      <td>NaN</td>\n",
       "      <td>NaN</td>\n",
       "      <td>NaN</td>\n",
       "      <td>NaN</td>\n",
       "      <td>NaN</td>\n",
       "      <td>NaN</td>\n",
       "      <td>0</td>\n",
       "      <td>Units</td>\n",
       "      <td>NaN</td>\n",
       "      <td>NaN</td>\n",
       "    </tr>\n",
       "    <tr>\n",
       "      <th>388</th>\n",
       "      <td>DATAFLOW</td>\n",
       "      <td>OECD.ELS.HD:HEALTH_PHMC@DF_PHMC_SALES(1.0)</td>\n",
       "      <td>Pharmaceuticals sales</td>\n",
       "      <td>I</td>\n",
       "      <td>CAN</td>\n",
       "      <td>Canada</td>\n",
       "      <td>PH_SALES</td>\n",
       "      <td>Pharmaceutical sales</td>\n",
       "      <td>USD_PPP_PS</td>\n",
       "      <td>US dollars per person, PPP converted</td>\n",
       "      <td>...</td>\n",
       "      <td>D</td>\n",
       "      <td>Definition differs</td>\n",
       "      <td>NaN</td>\n",
       "      <td>NaN</td>\n",
       "      <td>NaN</td>\n",
       "      <td>NaN</td>\n",
       "      <td>0</td>\n",
       "      <td>Units</td>\n",
       "      <td>NaN</td>\n",
       "      <td>NaN</td>\n",
       "    </tr>\n",
       "    <tr>\n",
       "      <th>389</th>\n",
       "      <td>DATAFLOW</td>\n",
       "      <td>OECD.ELS.HD:HEALTH_PHMC@DF_PHMC_SALES(1.0)</td>\n",
       "      <td>Pharmaceuticals sales</td>\n",
       "      <td>I</td>\n",
       "      <td>HUN</td>\n",
       "      <td>Hungary</td>\n",
       "      <td>PH_SALES</td>\n",
       "      <td>Pharmaceutical sales</td>\n",
       "      <td>USD_PPP_PS</td>\n",
       "      <td>US dollars per person, PPP converted</td>\n",
       "      <td>...</td>\n",
       "      <td>D</td>\n",
       "      <td>Definition differs</td>\n",
       "      <td>NaN</td>\n",
       "      <td>NaN</td>\n",
       "      <td>NaN</td>\n",
       "      <td>NaN</td>\n",
       "      <td>0</td>\n",
       "      <td>Units</td>\n",
       "      <td>NaN</td>\n",
       "      <td>NaN</td>\n",
       "    </tr>\n",
       "    <tr>\n",
       "      <th>390</th>\n",
       "      <td>DATAFLOW</td>\n",
       "      <td>OECD.ELS.HD:HEALTH_PHMC@DF_PHMC_SALES(1.0)</td>\n",
       "      <td>Pharmaceuticals sales</td>\n",
       "      <td>I</td>\n",
       "      <td>SWE</td>\n",
       "      <td>Sweden</td>\n",
       "      <td>PH_SALES</td>\n",
       "      <td>Pharmaceutical sales</td>\n",
       "      <td>USD_PPP_PS</td>\n",
       "      <td>US dollars per person, PPP converted</td>\n",
       "      <td>...</td>\n",
       "      <td>NaN</td>\n",
       "      <td>NaN</td>\n",
       "      <td>NaN</td>\n",
       "      <td>NaN</td>\n",
       "      <td>NaN</td>\n",
       "      <td>NaN</td>\n",
       "      <td>0</td>\n",
       "      <td>Units</td>\n",
       "      <td>NaN</td>\n",
       "      <td>NaN</td>\n",
       "    </tr>\n",
       "    <tr>\n",
       "      <th>391</th>\n",
       "      <td>DATAFLOW</td>\n",
       "      <td>OECD.ELS.HD:HEALTH_PHMC@DF_PHMC_SALES(1.0)</td>\n",
       "      <td>Pharmaceuticals sales</td>\n",
       "      <td>I</td>\n",
       "      <td>HRV</td>\n",
       "      <td>Croatia</td>\n",
       "      <td>PH_SALES</td>\n",
       "      <td>Pharmaceutical sales</td>\n",
       "      <td>USD_PPP_PS</td>\n",
       "      <td>US dollars per person, PPP converted</td>\n",
       "      <td>...</td>\n",
       "      <td>NaN</td>\n",
       "      <td>NaN</td>\n",
       "      <td>NaN</td>\n",
       "      <td>NaN</td>\n",
       "      <td>NaN</td>\n",
       "      <td>NaN</td>\n",
       "      <td>0</td>\n",
       "      <td>Units</td>\n",
       "      <td>NaN</td>\n",
       "      <td>NaN</td>\n",
       "    </tr>\n",
       "  </tbody>\n",
       "</table>\n",
       "<p>392 rows × 28 columns</p>\n",
       "</div>"
      ],
      "text/plain": [
       "    STRUCTURE                                STRUCTURE_ID  \\\n",
       "0    DATAFLOW  OECD.ELS.HD:HEALTH_PHMC@DF_PHMC_SALES(1.0)   \n",
       "1    DATAFLOW  OECD.ELS.HD:HEALTH_PHMC@DF_PHMC_SALES(1.0)   \n",
       "2    DATAFLOW  OECD.ELS.HD:HEALTH_PHMC@DF_PHMC_SALES(1.0)   \n",
       "3    DATAFLOW  OECD.ELS.HD:HEALTH_PHMC@DF_PHMC_SALES(1.0)   \n",
       "4    DATAFLOW  OECD.ELS.HD:HEALTH_PHMC@DF_PHMC_SALES(1.0)   \n",
       "..        ...                                         ...   \n",
       "387  DATAFLOW  OECD.ELS.HD:HEALTH_PHMC@DF_PHMC_SALES(1.0)   \n",
       "388  DATAFLOW  OECD.ELS.HD:HEALTH_PHMC@DF_PHMC_SALES(1.0)   \n",
       "389  DATAFLOW  OECD.ELS.HD:HEALTH_PHMC@DF_PHMC_SALES(1.0)   \n",
       "390  DATAFLOW  OECD.ELS.HD:HEALTH_PHMC@DF_PHMC_SALES(1.0)   \n",
       "391  DATAFLOW  OECD.ELS.HD:HEALTH_PHMC@DF_PHMC_SALES(1.0)   \n",
       "\n",
       "            STRUCTURE_NAME ACTION REF_AREA Reference area   MEASURE  \\\n",
       "0    Pharmaceuticals sales      I      BEL        Belgium  PH_SALES   \n",
       "1    Pharmaceuticals sales      I      BEL        Belgium  PH_SALES   \n",
       "2    Pharmaceuticals sales      I      BEL        Belgium  PH_SALES   \n",
       "3    Pharmaceuticals sales      I      BEL        Belgium  PH_SALES   \n",
       "4    Pharmaceuticals sales      I      BEL        Belgium  PH_SALES   \n",
       "..                     ...    ...      ...            ...       ...   \n",
       "387  Pharmaceuticals sales      I      KOR          Korea  PH_SALES   \n",
       "388  Pharmaceuticals sales      I      CAN         Canada  PH_SALES   \n",
       "389  Pharmaceuticals sales      I      HUN        Hungary  PH_SALES   \n",
       "390  Pharmaceuticals sales      I      SWE         Sweden  PH_SALES   \n",
       "391  Pharmaceuticals sales      I      HRV        Croatia  PH_SALES   \n",
       "\n",
       "                  Measure UNIT_MEASURE                       Unit of measure  \\\n",
       "0    Pharmaceutical sales   USD_PPP_PS  US dollars per person, PPP converted   \n",
       "1    Pharmaceutical sales   USD_PPP_PS  US dollars per person, PPP converted   \n",
       "2    Pharmaceutical sales   USD_PPP_PS  US dollars per person, PPP converted   \n",
       "3    Pharmaceutical sales   USD_PPP_PS  US dollars per person, PPP converted   \n",
       "4    Pharmaceutical sales   USD_PPP_PS  US dollars per person, PPP converted   \n",
       "..                    ...          ...                                   ...   \n",
       "387  Pharmaceutical sales   USD_PPP_PS  US dollars per person, PPP converted   \n",
       "388  Pharmaceutical sales   USD_PPP_PS  US dollars per person, PPP converted   \n",
       "389  Pharmaceutical sales   USD_PPP_PS  US dollars per person, PPP converted   \n",
       "390  Pharmaceutical sales   USD_PPP_PS  US dollars per person, PPP converted   \n",
       "391  Pharmaceutical sales   USD_PPP_PS  US dollars per person, PPP converted   \n",
       "\n",
       "     ... OBS_STATUS  Observation status OBS_STATUS2 Observation status 2  \\\n",
       "0    ...        NaN                 NaN         NaN                  NaN   \n",
       "1    ...        NaN                 NaN         NaN                  NaN   \n",
       "2    ...        NaN                 NaN         NaN                  NaN   \n",
       "3    ...        NaN                 NaN         NaN                  NaN   \n",
       "4    ...        NaN                 NaN         NaN                  NaN   \n",
       "..   ...        ...                 ...         ...                  ...   \n",
       "387  ...        NaN                 NaN         NaN                  NaN   \n",
       "388  ...          D  Definition differs         NaN                  NaN   \n",
       "389  ...          D  Definition differs         NaN                  NaN   \n",
       "390  ...        NaN                 NaN         NaN                  NaN   \n",
       "391  ...        NaN                 NaN         NaN                  NaN   \n",
       "\n",
       "     OBS_STATUS3  Observation status 3  UNIT_MULT  Unit multiplier DECIMALS  \\\n",
       "0            NaN                   NaN          0            Units      NaN   \n",
       "1            NaN                   NaN          0            Units      NaN   \n",
       "2            NaN                   NaN          0            Units      NaN   \n",
       "3            NaN                   NaN          0            Units      NaN   \n",
       "4            NaN                   NaN          0            Units      NaN   \n",
       "..           ...                   ...        ...              ...      ...   \n",
       "387          NaN                   NaN          0            Units      NaN   \n",
       "388          NaN                   NaN          0            Units      NaN   \n",
       "389          NaN                   NaN          0            Units      NaN   \n",
       "390          NaN                   NaN          0            Units      NaN   \n",
       "391          NaN                   NaN          0            Units      NaN   \n",
       "\n",
       "    Decimals  \n",
       "0        NaN  \n",
       "1        NaN  \n",
       "2        NaN  \n",
       "3        NaN  \n",
       "4        NaN  \n",
       "..       ...  \n",
       "387      NaN  \n",
       "388      NaN  \n",
       "389      NaN  \n",
       "390      NaN  \n",
       "391      NaN  \n",
       "\n",
       "[392 rows x 28 columns]"
      ]
     },
     "execution_count": 539,
     "metadata": {},
     "output_type": "execute_result"
    }
   ],
   "source": [
    "pharmsales = pd.read_csv(\"OECD.ELS.HD,HEALTH_PHMC@DF_PHMC_SALES,+..USD_PPP_PS.._T.csv\")\n",
    "pharmsales"
   ]
  },
  {
   "cell_type": "markdown",
   "id": "670ee940-51ca-4808-8446-03fc4c366557",
   "metadata": {},
   "source": [
    "Load the data"
   ]
  },
  {
   "cell_type": "markdown",
   "id": "cf2680bd-43d6-4cbd-9e2b-d2c5864270f8",
   "metadata": {},
   "source": [
    "URL: https://data-explorer.oecd.org/vis?lc=en&df[ds]=dsDisseminateFinalDMZ&df[id]=HEALTH_PHMC%40DF_PHMC_SALES&df[ag]=OECD.ELS.HD&dq=..USD_PPP_PS.._T&pd=2010%2C&to[TIME_PERIOD]=false"
   ]
  },
  {
   "cell_type": "code",
   "execution_count": 543,
   "id": "0eb7ca29-9566-4168-bc48-76861c88ea3a",
   "metadata": {},
   "outputs": [
    {
     "name": "stdout",
     "output_type": "stream",
     "text": [
      "<class 'pandas.core.frame.DataFrame'>\n",
      "RangeIndex: 392 entries, 0 to 391\n",
      "Data columns (total 28 columns):\n",
      " #   Column                Non-Null Count  Dtype  \n",
      "---  ------                --------------  -----  \n",
      " 0   STRUCTURE             392 non-null    object \n",
      " 1   STRUCTURE_ID          392 non-null    object \n",
      " 2   STRUCTURE_NAME        392 non-null    object \n",
      " 3   ACTION                392 non-null    object \n",
      " 4   REF_AREA              392 non-null    object \n",
      " 5   Reference area        392 non-null    object \n",
      " 6   MEASURE               392 non-null    object \n",
      " 7   Measure               392 non-null    object \n",
      " 8   UNIT_MEASURE          392 non-null    object \n",
      " 9   Unit of measure       392 non-null    object \n",
      " 10  MARKET_TYPE           392 non-null    object \n",
      " 11  Market type           392 non-null    object \n",
      " 12  PHARMACEUTICAL        392 non-null    object \n",
      " 13  Pharmaceutical        392 non-null    object \n",
      " 14  TIME_PERIOD           392 non-null    int64  \n",
      " 15  Time period           0 non-null      float64\n",
      " 16  OBS_VALUE             392 non-null    float64\n",
      " 17  Observation value     0 non-null      float64\n",
      " 18  OBS_STATUS            195 non-null    object \n",
      " 19  Observation status    195 non-null    object \n",
      " 20  OBS_STATUS2           13 non-null     object \n",
      " 21  Observation status 2  13 non-null     object \n",
      " 22  OBS_STATUS3           1 non-null      object \n",
      " 23  Observation status 3  1 non-null      object \n",
      " 24  UNIT_MULT             392 non-null    int64  \n",
      " 25  Unit multiplier       392 non-null    object \n",
      " 26  DECIMALS              0 non-null      float64\n",
      " 27  Decimals              0 non-null      float64\n",
      "dtypes: float64(5), int64(2), object(21)\n",
      "memory usage: 85.9+ KB\n"
     ]
    }
   ],
   "source": [
    "pharmsales.info()"
   ]
  },
  {
   "cell_type": "markdown",
   "id": "f2ca2297-4c24-4eb8-83df-22a9e5f86dec",
   "metadata": {},
   "source": [
    "Looking to see which columns are recorded as strings or floats"
   ]
  },
  {
   "cell_type": "code",
   "execution_count": 546,
   "id": "5f1464b0-70aa-4175-b10b-476f3f9ca6b2",
   "metadata": {},
   "outputs": [],
   "source": [
    "cancer_data= cancercare[['REF_AREA', 'TIME_PERIOD', 'OBS_VALUE']].rename(\n",
    "    columns={'OBS_VALUE': 'Cancer_Rate'}\n",
    ")\n",
    "pharm_sales_data = pharmsales[['REF_AREA', 'TIME_PERIOD', 'OBS_VALUE']].rename(\n",
    "    columns={'OBS_VALUE': 'Pharma_Sales'}\n",
    ")"
   ]
  },
  {
   "cell_type": "markdown",
   "id": "6f2332ae-1559-4a11-aafa-fe8f9a48b174",
   "metadata": {},
   "source": [
    "In the above kernal, I am extracting the columns of data that I need to make the chart"
   ]
  },
  {
   "cell_type": "code",
   "execution_count": 549,
   "id": "ae966ee3-d4b9-4008-907d-50ca2073cde8",
   "metadata": {},
   "outputs": [],
   "source": [
    "cancer_data_2014 = cancer_data[cancer_data['TIME_PERIOD'] == 2014]\n",
    "\n",
    "# Check if pharma sales data exists\n",
    "pharm_sales_data_2014 = pharm_sales_data[pharm_sales_data['TIME_PERIOD'] == 2014]"
   ]
  },
  {
   "cell_type": "markdown",
   "id": "d62c8372-6e3a-45a4-9bc6-85692067733d",
   "metadata": {},
   "source": [
    "I only wanted to see the data for year 2014 and for Australia and Belgium"
   ]
  },
  {
   "cell_type": "code",
   "execution_count": 552,
   "id": "9ef08e5e-1280-4eca-827b-c6889e0c182b",
   "metadata": {},
   "outputs": [],
   "source": [
    "countries = [\"BEL\", \"AUS\"]"
   ]
  },
  {
   "cell_type": "code",
   "execution_count": 554,
   "id": "00f4a04a-1335-4f41-bf09-8b85abd9967e",
   "metadata": {},
   "outputs": [],
   "source": [
    "data_list = []\n",
    "for country in countries:\n",
    "    # Get cancer rate data for the country\n",
    "    cancer_rate = cancer_data_2014[cancer_data_2014['REF_AREA'] == country]['Cancer_Rate'].mean()\n",
    "    if pd.isna(cancer_rate):\n",
    "        cancer_rate = 0  # Use placeholder if no data\n",
    "\n",
    "    # Get pharmaceutical sales data for the country\n",
    "    pharma_sales = pharm_sales_data_2014[pharm_sales_data_2014['REF_AREA'] == country]['Pharma_Sales'].mean()\n",
    "    if pd.isna(pharma_sales):\n",
    "        pharma_sales = 0  # Use placeholder if no data\n",
    "\n",
    "    # Append data to the list\n",
    "    data_list.append({'Country': country, 'Metric': 'Cancer Rate', 'Value': cancer_rate})\n",
    "    data_list.append({'Country': country, 'Metric': 'Pharmaceutical Sales', 'Value': pharma_sales})"
   ]
  },
  {
   "cell_type": "raw",
   "id": "1888a578-058c-4550-9f71-76fda304ae98",
   "metadata": {},
   "source": [
    "I made a list and a for loop for the cancer rates and pharm sales in Belgium and Australia "
   ]
  },
  {
   "cell_type": "code",
   "execution_count": 556,
   "id": "0e11d933-0be8-4bb4-a152-254660195885",
   "metadata": {},
   "outputs": [],
   "source": [
    "combined_data = pd.DataFrame(data_list)"
   ]
  },
  {
   "cell_type": "markdown",
   "id": "5b74a472-7446-46b6-b757-a6fbc8a98445",
   "metadata": {},
   "source": [
    "Have to combined data frames into one in order to make the figure. It's much easier this way."
   ]
  },
  {
   "cell_type": "code",
   "execution_count": 561,
   "id": "b05b0024-8eef-4420-af42-1b5bb74519cd",
   "metadata": {},
   "outputs": [
    {
     "data": {
      "application/vnd.plotly.v1+json": {
       "config": {
        "plotlyServerURL": "https://plot.ly"
       },
       "data": [
        {
         "alignmentgroup": "True",
         "hovertemplate": "Metric=Cancer Rate<br>Country=%{x}<br>Value=%{y}<extra></extra>",
         "legendgroup": "Cancer Rate",
         "marker": {
          "color": "#636efa",
          "pattern": {
           "shape": ""
          }
         },
         "name": "Cancer Rate",
         "offsetgroup": "Cancer Rate",
         "orientation": "v",
         "showlegend": true,
         "textposition": "auto",
         "type": "bar",
         "x": [
          "BEL",
          "AUS"
         ],
         "xaxis": "x",
         "y": [
          58.87647058823529,
          59.5
         ],
         "yaxis": "y"
        },
        {
         "alignmentgroup": "True",
         "hovertemplate": "Metric=Pharmaceutical Sales<br>Country=%{x}<br>Value=%{y}<extra></extra>",
         "legendgroup": "Pharmaceutical Sales",
         "marker": {
          "color": "#EF553B",
          "pattern": {
           "shape": ""
          }
         },
         "name": "Pharmaceutical Sales",
         "offsetgroup": "Pharmaceutical Sales",
         "orientation": "v",
         "showlegend": true,
         "textposition": "auto",
         "type": "bar",
         "x": [
          "BEL",
          "AUS"
         ],
         "xaxis": "x",
         "y": [
          664.8,
          348.6
         ],
         "yaxis": "y"
        }
       ],
       "layout": {
        "autosize": true,
        "barmode": "group",
        "legend": {
         "title": {
          "text": "Metric"
         },
         "tracegroupgap": 0
        },
        "template": {
         "data": {
          "bar": [
           {
            "error_x": {
             "color": "#2a3f5f"
            },
            "error_y": {
             "color": "#2a3f5f"
            },
            "marker": {
             "line": {
              "color": "#E5ECF6",
              "width": 0.5
             },
             "pattern": {
              "fillmode": "overlay",
              "size": 10,
              "solidity": 0.2
             }
            },
            "type": "bar"
           }
          ],
          "barpolar": [
           {
            "marker": {
             "line": {
              "color": "#E5ECF6",
              "width": 0.5
             },
             "pattern": {
              "fillmode": "overlay",
              "size": 10,
              "solidity": 0.2
             }
            },
            "type": "barpolar"
           }
          ],
          "carpet": [
           {
            "aaxis": {
             "endlinecolor": "#2a3f5f",
             "gridcolor": "white",
             "linecolor": "white",
             "minorgridcolor": "white",
             "startlinecolor": "#2a3f5f"
            },
            "baxis": {
             "endlinecolor": "#2a3f5f",
             "gridcolor": "white",
             "linecolor": "white",
             "minorgridcolor": "white",
             "startlinecolor": "#2a3f5f"
            },
            "type": "carpet"
           }
          ],
          "choropleth": [
           {
            "colorbar": {
             "outlinewidth": 0,
             "ticks": ""
            },
            "type": "choropleth"
           }
          ],
          "contour": [
           {
            "colorbar": {
             "outlinewidth": 0,
             "ticks": ""
            },
            "colorscale": [
             [
              0,
              "#0d0887"
             ],
             [
              0.1111111111111111,
              "#46039f"
             ],
             [
              0.2222222222222222,
              "#7201a8"
             ],
             [
              0.3333333333333333,
              "#9c179e"
             ],
             [
              0.4444444444444444,
              "#bd3786"
             ],
             [
              0.5555555555555556,
              "#d8576b"
             ],
             [
              0.6666666666666666,
              "#ed7953"
             ],
             [
              0.7777777777777778,
              "#fb9f3a"
             ],
             [
              0.8888888888888888,
              "#fdca26"
             ],
             [
              1,
              "#f0f921"
             ]
            ],
            "type": "contour"
           }
          ],
          "contourcarpet": [
           {
            "colorbar": {
             "outlinewidth": 0,
             "ticks": ""
            },
            "type": "contourcarpet"
           }
          ],
          "heatmap": [
           {
            "colorbar": {
             "outlinewidth": 0,
             "ticks": ""
            },
            "colorscale": [
             [
              0,
              "#0d0887"
             ],
             [
              0.1111111111111111,
              "#46039f"
             ],
             [
              0.2222222222222222,
              "#7201a8"
             ],
             [
              0.3333333333333333,
              "#9c179e"
             ],
             [
              0.4444444444444444,
              "#bd3786"
             ],
             [
              0.5555555555555556,
              "#d8576b"
             ],
             [
              0.6666666666666666,
              "#ed7953"
             ],
             [
              0.7777777777777778,
              "#fb9f3a"
             ],
             [
              0.8888888888888888,
              "#fdca26"
             ],
             [
              1,
              "#f0f921"
             ]
            ],
            "type": "heatmap"
           }
          ],
          "heatmapgl": [
           {
            "colorbar": {
             "outlinewidth": 0,
             "ticks": ""
            },
            "colorscale": [
             [
              0,
              "#0d0887"
             ],
             [
              0.1111111111111111,
              "#46039f"
             ],
             [
              0.2222222222222222,
              "#7201a8"
             ],
             [
              0.3333333333333333,
              "#9c179e"
             ],
             [
              0.4444444444444444,
              "#bd3786"
             ],
             [
              0.5555555555555556,
              "#d8576b"
             ],
             [
              0.6666666666666666,
              "#ed7953"
             ],
             [
              0.7777777777777778,
              "#fb9f3a"
             ],
             [
              0.8888888888888888,
              "#fdca26"
             ],
             [
              1,
              "#f0f921"
             ]
            ],
            "type": "heatmapgl"
           }
          ],
          "histogram": [
           {
            "marker": {
             "pattern": {
              "fillmode": "overlay",
              "size": 10,
              "solidity": 0.2
             }
            },
            "type": "histogram"
           }
          ],
          "histogram2d": [
           {
            "colorbar": {
             "outlinewidth": 0,
             "ticks": ""
            },
            "colorscale": [
             [
              0,
              "#0d0887"
             ],
             [
              0.1111111111111111,
              "#46039f"
             ],
             [
              0.2222222222222222,
              "#7201a8"
             ],
             [
              0.3333333333333333,
              "#9c179e"
             ],
             [
              0.4444444444444444,
              "#bd3786"
             ],
             [
              0.5555555555555556,
              "#d8576b"
             ],
             [
              0.6666666666666666,
              "#ed7953"
             ],
             [
              0.7777777777777778,
              "#fb9f3a"
             ],
             [
              0.8888888888888888,
              "#fdca26"
             ],
             [
              1,
              "#f0f921"
             ]
            ],
            "type": "histogram2d"
           }
          ],
          "histogram2dcontour": [
           {
            "colorbar": {
             "outlinewidth": 0,
             "ticks": ""
            },
            "colorscale": [
             [
              0,
              "#0d0887"
             ],
             [
              0.1111111111111111,
              "#46039f"
             ],
             [
              0.2222222222222222,
              "#7201a8"
             ],
             [
              0.3333333333333333,
              "#9c179e"
             ],
             [
              0.4444444444444444,
              "#bd3786"
             ],
             [
              0.5555555555555556,
              "#d8576b"
             ],
             [
              0.6666666666666666,
              "#ed7953"
             ],
             [
              0.7777777777777778,
              "#fb9f3a"
             ],
             [
              0.8888888888888888,
              "#fdca26"
             ],
             [
              1,
              "#f0f921"
             ]
            ],
            "type": "histogram2dcontour"
           }
          ],
          "mesh3d": [
           {
            "colorbar": {
             "outlinewidth": 0,
             "ticks": ""
            },
            "type": "mesh3d"
           }
          ],
          "parcoords": [
           {
            "line": {
             "colorbar": {
              "outlinewidth": 0,
              "ticks": ""
             }
            },
            "type": "parcoords"
           }
          ],
          "pie": [
           {
            "automargin": true,
            "type": "pie"
           }
          ],
          "scatter": [
           {
            "fillpattern": {
             "fillmode": "overlay",
             "size": 10,
             "solidity": 0.2
            },
            "type": "scatter"
           }
          ],
          "scatter3d": [
           {
            "line": {
             "colorbar": {
              "outlinewidth": 0,
              "ticks": ""
             }
            },
            "marker": {
             "colorbar": {
              "outlinewidth": 0,
              "ticks": ""
             }
            },
            "type": "scatter3d"
           }
          ],
          "scattercarpet": [
           {
            "marker": {
             "colorbar": {
              "outlinewidth": 0,
              "ticks": ""
             }
            },
            "type": "scattercarpet"
           }
          ],
          "scattergeo": [
           {
            "marker": {
             "colorbar": {
              "outlinewidth": 0,
              "ticks": ""
             }
            },
            "type": "scattergeo"
           }
          ],
          "scattergl": [
           {
            "marker": {
             "colorbar": {
              "outlinewidth": 0,
              "ticks": ""
             }
            },
            "type": "scattergl"
           }
          ],
          "scattermapbox": [
           {
            "marker": {
             "colorbar": {
              "outlinewidth": 0,
              "ticks": ""
             }
            },
            "type": "scattermapbox"
           }
          ],
          "scatterpolar": [
           {
            "marker": {
             "colorbar": {
              "outlinewidth": 0,
              "ticks": ""
             }
            },
            "type": "scatterpolar"
           }
          ],
          "scatterpolargl": [
           {
            "marker": {
             "colorbar": {
              "outlinewidth": 0,
              "ticks": ""
             }
            },
            "type": "scatterpolargl"
           }
          ],
          "scatterternary": [
           {
            "marker": {
             "colorbar": {
              "outlinewidth": 0,
              "ticks": ""
             }
            },
            "type": "scatterternary"
           }
          ],
          "surface": [
           {
            "colorbar": {
             "outlinewidth": 0,
             "ticks": ""
            },
            "colorscale": [
             [
              0,
              "#0d0887"
             ],
             [
              0.1111111111111111,
              "#46039f"
             ],
             [
              0.2222222222222222,
              "#7201a8"
             ],
             [
              0.3333333333333333,
              "#9c179e"
             ],
             [
              0.4444444444444444,
              "#bd3786"
             ],
             [
              0.5555555555555556,
              "#d8576b"
             ],
             [
              0.6666666666666666,
              "#ed7953"
             ],
             [
              0.7777777777777778,
              "#fb9f3a"
             ],
             [
              0.8888888888888888,
              "#fdca26"
             ],
             [
              1,
              "#f0f921"
             ]
            ],
            "type": "surface"
           }
          ],
          "table": [
           {
            "cells": {
             "fill": {
              "color": "#EBF0F8"
             },
             "line": {
              "color": "white"
             }
            },
            "header": {
             "fill": {
              "color": "#C8D4E3"
             },
             "line": {
              "color": "white"
             }
            },
            "type": "table"
           }
          ]
         },
         "layout": {
          "annotationdefaults": {
           "arrowcolor": "#2a3f5f",
           "arrowhead": 0,
           "arrowwidth": 1
          },
          "autotypenumbers": "strict",
          "coloraxis": {
           "colorbar": {
            "outlinewidth": 0,
            "ticks": ""
           }
          },
          "colorscale": {
           "diverging": [
            [
             0,
             "#8e0152"
            ],
            [
             0.1,
             "#c51b7d"
            ],
            [
             0.2,
             "#de77ae"
            ],
            [
             0.3,
             "#f1b6da"
            ],
            [
             0.4,
             "#fde0ef"
            ],
            [
             0.5,
             "#f7f7f7"
            ],
            [
             0.6,
             "#e6f5d0"
            ],
            [
             0.7,
             "#b8e186"
            ],
            [
             0.8,
             "#7fbc41"
            ],
            [
             0.9,
             "#4d9221"
            ],
            [
             1,
             "#276419"
            ]
           ],
           "sequential": [
            [
             0,
             "#0d0887"
            ],
            [
             0.1111111111111111,
             "#46039f"
            ],
            [
             0.2222222222222222,
             "#7201a8"
            ],
            [
             0.3333333333333333,
             "#9c179e"
            ],
            [
             0.4444444444444444,
             "#bd3786"
            ],
            [
             0.5555555555555556,
             "#d8576b"
            ],
            [
             0.6666666666666666,
             "#ed7953"
            ],
            [
             0.7777777777777778,
             "#fb9f3a"
            ],
            [
             0.8888888888888888,
             "#fdca26"
            ],
            [
             1,
             "#f0f921"
            ]
           ],
           "sequentialminus": [
            [
             0,
             "#0d0887"
            ],
            [
             0.1111111111111111,
             "#46039f"
            ],
            [
             0.2222222222222222,
             "#7201a8"
            ],
            [
             0.3333333333333333,
             "#9c179e"
            ],
            [
             0.4444444444444444,
             "#bd3786"
            ],
            [
             0.5555555555555556,
             "#d8576b"
            ],
            [
             0.6666666666666666,
             "#ed7953"
            ],
            [
             0.7777777777777778,
             "#fb9f3a"
            ],
            [
             0.8888888888888888,
             "#fdca26"
            ],
            [
             1,
             "#f0f921"
            ]
           ]
          },
          "colorway": [
           "#636efa",
           "#EF553B",
           "#00cc96",
           "#ab63fa",
           "#FFA15A",
           "#19d3f3",
           "#FF6692",
           "#B6E880",
           "#FF97FF",
           "#FECB52"
          ],
          "font": {
           "color": "#2a3f5f"
          },
          "geo": {
           "bgcolor": "white",
           "lakecolor": "white",
           "landcolor": "#E5ECF6",
           "showlakes": true,
           "showland": true,
           "subunitcolor": "white"
          },
          "hoverlabel": {
           "align": "left"
          },
          "hovermode": "closest",
          "mapbox": {
           "style": "light"
          },
          "paper_bgcolor": "white",
          "plot_bgcolor": "#E5ECF6",
          "polar": {
           "angularaxis": {
            "gridcolor": "white",
            "linecolor": "white",
            "ticks": ""
           },
           "bgcolor": "#E5ECF6",
           "radialaxis": {
            "gridcolor": "white",
            "linecolor": "white",
            "ticks": ""
           }
          },
          "scene": {
           "xaxis": {
            "backgroundcolor": "#E5ECF6",
            "gridcolor": "white",
            "gridwidth": 2,
            "linecolor": "white",
            "showbackground": true,
            "ticks": "",
            "zerolinecolor": "white"
           },
           "yaxis": {
            "backgroundcolor": "#E5ECF6",
            "gridcolor": "white",
            "gridwidth": 2,
            "linecolor": "white",
            "showbackground": true,
            "ticks": "",
            "zerolinecolor": "white"
           },
           "zaxis": {
            "backgroundcolor": "#E5ECF6",
            "gridcolor": "white",
            "gridwidth": 2,
            "linecolor": "white",
            "showbackground": true,
            "ticks": "",
            "zerolinecolor": "white"
           }
          },
          "shapedefaults": {
           "line": {
            "color": "#2a3f5f"
           }
          },
          "ternary": {
           "aaxis": {
            "gridcolor": "white",
            "linecolor": "white",
            "ticks": ""
           },
           "baxis": {
            "gridcolor": "white",
            "linecolor": "white",
            "ticks": ""
           },
           "bgcolor": "#E5ECF6",
           "caxis": {
            "gridcolor": "white",
            "linecolor": "white",
            "ticks": ""
           }
          },
          "title": {
           "x": 0.05
          },
          "xaxis": {
           "automargin": true,
           "gridcolor": "white",
           "linecolor": "white",
           "ticks": "",
           "title": {
            "standoff": 15
           },
           "zerolinecolor": "white",
           "zerolinewidth": 2
          },
          "yaxis": {
           "automargin": true,
           "gridcolor": "white",
           "linecolor": "white",
           "ticks": "",
           "title": {
            "standoff": 15
           },
           "zerolinecolor": "white",
           "zerolinewidth": 2
          }
         }
        },
        "title": {
         "text": "Cancer Rate and Pharmaceutical Sales in Selected Countries (2014)"
        },
        "xaxis": {
         "anchor": "y",
         "autorange": true,
         "domain": [
          0,
          1
         ],
         "range": [
          -0.5,
          1.5
         ],
         "title": {
          "text": "Country"
         },
         "type": "category"
        },
        "yaxis": {
         "anchor": "x",
         "autorange": true,
         "domain": [
          0,
          1
         ],
         "range": [
          0,
          699.7894736842105
         ],
         "title": {
          "text": "Value"
         },
         "type": "linear"
        }
       }
      },
      "image/png": "[encoded data removed]",
      "text/html": [
       "<div>                            <div id=\"96f04242-5060-4e55-bfcd-2725fcf7c4f6\" class=\"plotly-graph-div\" style=\"height:525px; width:100%;\"></div>            <script type=\"text/javascript\">                require([\"plotly\"], function(Plotly) {                    window.PLOTLYENV=window.PLOTLYENV || {};                                    if (document.getElementById(\"96f04242-5060-4e55-bfcd-2725fcf7c4f6\")) {                    Plotly.newPlot(                        \"96f04242-5060-4e55-bfcd-2725fcf7c4f6\",                        [{\"alignmentgroup\":\"True\",\"hovertemplate\":\"Metric=Cancer Rate\\u003cbr\\u003eCountry=%{x}\\u003cbr\\u003eValue=%{y}\\u003cextra\\u003e\\u003c\\u002fextra\\u003e\",\"legendgroup\":\"Cancer Rate\",\"marker\":{\"color\":\"#636efa\",\"pattern\":{\"shape\":\"\"}},\"name\":\"Cancer Rate\",\"offsetgroup\":\"Cancer Rate\",\"orientation\":\"v\",\"showlegend\":true,\"textposition\":\"auto\",\"x\":[\"BEL\",\"AUS\"],\"xaxis\":\"x\",\"y\":[58.87647058823529,59.5],\"yaxis\":\"y\",\"type\":\"bar\"},{\"alignmentgroup\":\"True\",\"hovertemplate\":\"Metric=Pharmaceutical Sales\\u003cbr\\u003eCountry=%{x}\\u003cbr\\u003eValue=%{y}\\u003cextra\\u003e\\u003c\\u002fextra\\u003e\",\"legendgroup\":\"Pharmaceutical Sales\",\"marker\":{\"color\":\"#EF553B\",\"pattern\":{\"shape\":\"\"}},\"name\":\"Pharmaceutical Sales\",\"offsetgroup\":\"Pharmaceutical Sales\",\"orientation\":\"v\",\"showlegend\":true,\"textposition\":\"auto\",\"x\":[\"BEL\",\"AUS\"],\"xaxis\":\"x\",\"y\":[664.8,348.6],\"yaxis\":\"y\",\"type\":\"bar\"}],                        {\"template\":{\"data\":{\"histogram2dcontour\":[{\"type\":\"histogram2dcontour\",\"colorbar\":{\"outlinewidth\":0,\"ticks\":\"\"},\"colorscale\":[[0.0,\"#0d0887\"],[0.1111111111111111,\"#46039f\"],[0.2222222222222222,\"#7201a8\"],[0.3333333333333333,\"#9c179e\"],[0.4444444444444444,\"#bd3786\"],[0.5555555555555556,\"#d8576b\"],[0.6666666666666666,\"#ed7953\"],[0.7777777777777778,\"#fb9f3a\"],[0.8888888888888888,\"#fdca26\"],[1.0,\"#f0f921\"]]}],\"choropleth\":[{\"type\":\"choropleth\",\"colorbar\":{\"outlinewidth\":0,\"ticks\":\"\"}}],\"histogram2d\":[{\"type\":\"histogram2d\",\"colorbar\":{\"outlinewidth\":0,\"ticks\":\"\"},\"colorscale\":[[0.0,\"#0d0887\"],[0.1111111111111111,\"#46039f\"],[0.2222222222222222,\"#7201a8\"],[0.3333333333333333,\"#9c179e\"],[0.4444444444444444,\"#bd3786\"],[0.5555555555555556,\"#d8576b\"],[0.6666666666666666,\"#ed7953\"],[0.7777777777777778,\"#fb9f3a\"],[0.8888888888888888,\"#fdca26\"],[1.0,\"#f0f921\"]]}],\"heatmap\":[{\"type\":\"heatmap\",\"colorbar\":{\"outlinewidth\":0,\"ticks\":\"\"},\"colorscale\":[[0.0,\"#0d0887\"],[0.1111111111111111,\"#46039f\"],[0.2222222222222222,\"#7201a8\"],[0.3333333333333333,\"#9c179e\"],[0.4444444444444444,\"#bd3786\"],[0.5555555555555556,\"#d8576b\"],[0.6666666666666666,\"#ed7953\"],[0.7777777777777778,\"#fb9f3a\"],[0.8888888888888888,\"#fdca26\"],[1.0,\"#f0f921\"]]}],\"heatmapgl\":[{\"type\":\"heatmapgl\",\"colorbar\":{\"outlinewidth\":0,\"ticks\":\"\"},\"colorscale\":[[0.0,\"#0d0887\"],[0.1111111111111111,\"#46039f\"],[0.2222222222222222,\"#7201a8\"],[0.3333333333333333,\"#9c179e\"],[0.4444444444444444,\"#bd3786\"],[0.5555555555555556,\"#d8576b\"],[0.6666666666666666,\"#ed7953\"],[0.7777777777777778,\"#fb9f3a\"],[0.8888888888888888,\"#fdca26\"],[1.0,\"#f0f921\"]]}],\"contourcarpet\":[{\"type\":\"contourcarpet\",\"colorbar\":{\"outlinewidth\":0,\"ticks\":\"\"}}],\"contour\":[{\"type\":\"contour\",\"colorbar\":{\"outlinewidth\":0,\"ticks\":\"\"},\"colorscale\":[[0.0,\"#0d0887\"],[0.1111111111111111,\"#46039f\"],[0.2222222222222222,\"#7201a8\"],[0.3333333333333333,\"#9c179e\"],[0.4444444444444444,\"#bd3786\"],[0.5555555555555556,\"#d8576b\"],[0.6666666666666666,\"#ed7953\"],[0.7777777777777778,\"#fb9f3a\"],[0.8888888888888888,\"#fdca26\"],[1.0,\"#f0f921\"]]}],\"surface\":[{\"type\":\"surface\",\"colorbar\":{\"outlinewidth\":0,\"ticks\":\"\"},\"colorscale\":[[0.0,\"#0d0887\"],[0.1111111111111111,\"#46039f\"],[0.2222222222222222,\"#7201a8\"],[0.3333333333333333,\"#9c179e\"],[0.4444444444444444,\"#bd3786\"],[0.5555555555555556,\"#d8576b\"],[0.6666666666666666,\"#ed7953\"],[0.7777777777777778,\"#fb9f3a\"],[0.8888888888888888,\"#fdca26\"],[1.0,\"#f0f921\"]]}],\"mesh3d\":[{\"type\":\"mesh3d\",\"colorbar\":{\"outlinewidth\":0,\"ticks\":\"\"}}],\"scatter\":[{\"fillpattern\":{\"fillmode\":\"overlay\",\"size\":10,\"solidity\":0.2},\"type\":\"scatter\"}],\"parcoords\":[{\"type\":\"parcoords\",\"line\":{\"colorbar\":{\"outlinewidth\":0,\"ticks\":\"\"}}}],\"scatterpolargl\":[{\"type\":\"scatterpolargl\",\"marker\":{\"colorbar\":{\"outlinewidth\":0,\"ticks\":\"\"}}}],\"bar\":[{\"error_x\":{\"color\":\"#2a3f5f\"},\"error_y\":{\"color\":\"#2a3f5f\"},\"marker\":{\"line\":{\"color\":\"#E5ECF6\",\"width\":0.5},\"pattern\":{\"fillmode\":\"overlay\",\"size\":10,\"solidity\":0.2}},\"type\":\"bar\"}],\"scattergeo\":[{\"type\":\"scattergeo\",\"marker\":{\"colorbar\":{\"outlinewidth\":0,\"ticks\":\"\"}}}],\"scatterpolar\":[{\"type\":\"scatterpolar\",\"marker\":{\"colorbar\":{\"outlinewidth\":0,\"ticks\":\"\"}}}],\"histogram\":[{\"marker\":{\"pattern\":{\"fillmode\":\"overlay\",\"size\":10,\"solidity\":0.2}},\"type\":\"histogram\"}],\"scattergl\":[{\"type\":\"scattergl\",\"marker\":{\"colorbar\":{\"outlinewidth\":0,\"ticks\":\"\"}}}],\"scatter3d\":[{\"type\":\"scatter3d\",\"line\":{\"colorbar\":{\"outlinewidth\":0,\"ticks\":\"\"}},\"marker\":{\"colorbar\":{\"outlinewidth\":0,\"ticks\":\"\"}}}],\"scattermapbox\":[{\"type\":\"scattermapbox\",\"marker\":{\"colorbar\":{\"outlinewidth\":0,\"ticks\":\"\"}}}],\"scatterternary\":[{\"type\":\"scatterternary\",\"marker\":{\"colorbar\":{\"outlinewidth\":0,\"ticks\":\"\"}}}],\"scattercarpet\":[{\"type\":\"scattercarpet\",\"marker\":{\"colorbar\":{\"outlinewidth\":0,\"ticks\":\"\"}}}],\"carpet\":[{\"aaxis\":{\"endlinecolor\":\"#2a3f5f\",\"gridcolor\":\"white\",\"linecolor\":\"white\",\"minorgridcolor\":\"white\",\"startlinecolor\":\"#2a3f5f\"},\"baxis\":{\"endlinecolor\":\"#2a3f5f\",\"gridcolor\":\"white\",\"linecolor\":\"white\",\"minorgridcolor\":\"white\",\"startlinecolor\":\"#2a3f5f\"},\"type\":\"carpet\"}],\"table\":[{\"cells\":{\"fill\":{\"color\":\"#EBF0F8\"},\"line\":{\"color\":\"white\"}},\"header\":{\"fill\":{\"color\":\"#C8D4E3\"},\"line\":{\"color\":\"white\"}},\"type\":\"table\"}],\"barpolar\":[{\"marker\":{\"line\":{\"color\":\"#E5ECF6\",\"width\":0.5},\"pattern\":{\"fillmode\":\"overlay\",\"size\":10,\"solidity\":0.2}},\"type\":\"barpolar\"}],\"pie\":[{\"automargin\":true,\"type\":\"pie\"}]},\"layout\":{\"autotypenumbers\":\"strict\",\"colorway\":[\"#636efa\",\"#EF553B\",\"#00cc96\",\"#ab63fa\",\"#FFA15A\",\"#19d3f3\",\"#FF6692\",\"#B6E880\",\"#FF97FF\",\"#FECB52\"],\"font\":{\"color\":\"#2a3f5f\"},\"hovermode\":\"closest\",\"hoverlabel\":{\"align\":\"left\"},\"paper_bgcolor\":\"white\",\"plot_bgcolor\":\"#E5ECF6\",\"polar\":{\"bgcolor\":\"#E5ECF6\",\"angularaxis\":{\"gridcolor\":\"white\",\"linecolor\":\"white\",\"ticks\":\"\"},\"radialaxis\":{\"gridcolor\":\"white\",\"linecolor\":\"white\",\"ticks\":\"\"}},\"ternary\":{\"bgcolor\":\"#E5ECF6\",\"aaxis\":{\"gridcolor\":\"white\",\"linecolor\":\"white\",\"ticks\":\"\"},\"baxis\":{\"gridcolor\":\"white\",\"linecolor\":\"white\",\"ticks\":\"\"},\"caxis\":{\"gridcolor\":\"white\",\"linecolor\":\"white\",\"ticks\":\"\"}},\"coloraxis\":{\"colorbar\":{\"outlinewidth\":0,\"ticks\":\"\"}},\"colorscale\":{\"sequential\":[[0.0,\"#0d0887\"],[0.1111111111111111,\"#46039f\"],[0.2222222222222222,\"#7201a8\"],[0.3333333333333333,\"#9c179e\"],[0.4444444444444444,\"#bd3786\"],[0.5555555555555556,\"#d8576b\"],[0.6666666666666666,\"#ed7953\"],[0.7777777777777778,\"#fb9f3a\"],[0.8888888888888888,\"#fdca26\"],[1.0,\"#f0f921\"]],\"sequentialminus\":[[0.0,\"#0d0887\"],[0.1111111111111111,\"#46039f\"],[0.2222222222222222,\"#7201a8\"],[0.3333333333333333,\"#9c179e\"],[0.4444444444444444,\"#bd3786\"],[0.5555555555555556,\"#d8576b\"],[0.6666666666666666,\"#ed7953\"],[0.7777777777777778,\"#fb9f3a\"],[0.8888888888888888,\"#fdca26\"],[1.0,\"#f0f921\"]],\"diverging\":[[0,\"#8e0152\"],[0.1,\"#c51b7d\"],[0.2,\"#de77ae\"],[0.3,\"#f1b6da\"],[0.4,\"#fde0ef\"],[0.5,\"#f7f7f7\"],[0.6,\"#e6f5d0\"],[0.7,\"#b8e186\"],[0.8,\"#7fbc41\"],[0.9,\"#4d9221\"],[1,\"#276419\"]]},\"xaxis\":{\"gridcolor\":\"white\",\"linecolor\":\"white\",\"ticks\":\"\",\"title\":{\"standoff\":15},\"zerolinecolor\":\"white\",\"automargin\":true,\"zerolinewidth\":2},\"yaxis\":{\"gridcolor\":\"white\",\"linecolor\":\"white\",\"ticks\":\"\",\"title\":{\"standoff\":15},\"zerolinecolor\":\"white\",\"automargin\":true,\"zerolinewidth\":2},\"scene\":{\"xaxis\":{\"backgroundcolor\":\"#E5ECF6\",\"gridcolor\":\"white\",\"linecolor\":\"white\",\"showbackground\":true,\"ticks\":\"\",\"zerolinecolor\":\"white\",\"gridwidth\":2},\"yaxis\":{\"backgroundcolor\":\"#E5ECF6\",\"gridcolor\":\"white\",\"linecolor\":\"white\",\"showbackground\":true,\"ticks\":\"\",\"zerolinecolor\":\"white\",\"gridwidth\":2},\"zaxis\":{\"backgroundcolor\":\"#E5ECF6\",\"gridcolor\":\"white\",\"linecolor\":\"white\",\"showbackground\":true,\"ticks\":\"\",\"zerolinecolor\":\"white\",\"gridwidth\":2}},\"shapedefaults\":{\"line\":{\"color\":\"#2a3f5f\"}},\"annotationdefaults\":{\"arrowcolor\":\"#2a3f5f\",\"arrowhead\":0,\"arrowwidth\":1},\"geo\":{\"bgcolor\":\"white\",\"landcolor\":\"#E5ECF6\",\"subunitcolor\":\"white\",\"showland\":true,\"showlakes\":true,\"lakecolor\":\"white\"},\"title\":{\"x\":0.05},\"mapbox\":{\"style\":\"light\"}}},\"xaxis\":{\"anchor\":\"y\",\"domain\":[0.0,1.0],\"title\":{\"text\":\"Country\"}},\"yaxis\":{\"anchor\":\"x\",\"domain\":[0.0,1.0],\"title\":{\"text\":\"Value\"}},\"legend\":{\"title\":{\"text\":\"Metric\"},\"tracegroupgap\":0},\"title\":{\"text\":\"Cancer Rate and Pharmaceutical Sales in Selected Countries (2014)\"},\"barmode\":\"group\"},                        {\"responsive\": true}                    ).then(function(){\n",
       "                            \n",
       "var gd = document.getElementById('96f04242-5060-4e55-bfcd-2725fcf7c4f6');\n",
       "var x = new MutationObserver(function (mutations, observer) {{\n",
       "        var display = window.getComputedStyle(gd).display;\n",
       "        if (!display || display === 'none') {{\n",
       "            console.log([gd, 'removed!']);\n",
       "            Plotly.purge(gd);\n",
       "            observer.disconnect();\n",
       "        }}\n",
       "}});\n",
       "\n",
       "// Listen for the removal of the full notebook cells\n",
       "var notebookContainer = gd.closest('#notebook-container');\n",
       "if (notebookContainer) {{\n",
       "    x.observe(notebookContainer, {childList: true});\n",
       "}}\n",
       "\n",
       "// Listen for the clearing of the current output cell\n",
       "var outputEl = gd.closest('.output');\n",
       "if (outputEl) {{\n",
       "    x.observe(outputEl, {childList: true});\n",
       "}}\n",
       "\n",
       "                        })                };                });            </script>        </div>"
      ]
     },
     "metadata": {},
     "output_type": "display_data"
    }
   ],
   "source": [
    "fig = px.bar(\n",
    "    combined_data, \n",
    "    x='Country', \n",
    "    y='Value', \n",
    "    color='Metric', \n",
    "    barmode='group',\n",
    "    title='Cancer Rate and Pharmaceutical Sales in Selected Countries (2014)', \n",
    "    labels={'Value': 'Value'}\n",
    ")\n",
    "fig.show()"
   ]
  },
  {
   "cell_type": "markdown",
   "id": "43196f64-d6fb-47b1-990d-d66f27a2cfd1",
   "metadata": {},
   "source": [
    "I was hoping to see that if there was an increase in cancer rates that there would also be an increase in pharm sales, but I did not! I chose Belgium and Australia in the year 2014 because those were the countries with the most data that I could draw from (around 18 entries for both cancer rate and pharmaceutical sales for that year). Belgium and Australia have similar cancer rates for 2014 but differ drastically in their pharmaceutical sales indicating that there is not enough evidence to conclude there is a correlation between cancer rates and pharmacuetical sales for the year of 2014. Of course, I would have liked to have had data that showed each country over time to make a line plot but I could not find consistent data anywhere. Next time, I would also choose a bigger data set. The pharmaceutical sales data set being only 300 rows really impacted my ability to shape and portray the relationship that I wanted to orginally portray which was two lines - one for pharm sales and one for cancer rate for Belgium and Australia over a 10 year period. "
   ]
  },
  {
   "cell_type": "code",
   "execution_count": null,
   "id": "5237cba0-ff0f-42ac-9468-e4475c9b3705",
   "metadata": {},
   "outputs": [],
   "source": []
  }
 ],
 "metadata": {
  "kernelspec": {
   "display_name": "Python 3 (ipykernel)",
   "language": "python",
   "name": "python3"
  },
  "language_info": {
   "codemirror_mode": {
    "name": "ipython",
    "version": 3
   },
   "file_extension": ".py",
   "mimetype": "text/x-python",
   "name": "python",
   "nbconvert_exporter": "python",
   "pygments_lexer": "ipython3",
   "version": "3.12.4"
  }
 },
 "nbformat": 4,
 "nbformat_minor": 5
}
